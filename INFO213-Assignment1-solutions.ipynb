{
 "cells": [
  {
   "cell_type": "markdown",
   "metadata": {},
   "source": [
    "<h1 style=\"text-align:center\"> Drexel University </h1>\n",
    "<h2 style = \"text-align:center\"> College of Computing and Informatics</h2>\n",
    "<h2 style = \"text-align:center\">INFO 213: Data Science Programming II</h2>\n",
    "<h3 style = \"text-align:center\">Assignment 1</h3>\n",
    "<div style=\"text-align:center; border-style:solid; padding: 10px\">\n",
    "<div style=\"font-weight:bold\">Due Date: Sunday, July 8, 2018</div>\n",
    "This assignment counts for 15% of the final grade\n",
    "</div>\n",
    "\n",
    "<h3 style=\"color:red; font-weight:bold; text-decoration: underline\">DON'T FORGET TO PUT YOUR NAME BELOW</h3>\n",
    "\n",
    "### NAME:\n",
    "\n",
    "\n",
    "### A. Assignment Overview\n",
    "This assignment provides the opportunity for you to practice with the data science in Python. \n",
    "\n",
    "### B. What to Hand In\n",
    "\t\n",
    "Sumbit a completed this Jupyter notebook. \n",
    "\n",
    "### C. How to Hand In\n",
    "\n",
    "Submit your Jupyter notebook file through the course website in the Blackboard Learn system.\n",
    "\n",
    "### D. When to Hand In\n",
    "\n",
    "1. Submit your assignment no later than 11:59pm in the due date.\n",
    "2. There will be a 10% (absolute value) deduction for each day of lateness, to a maximum of 3 days; assignments will not be accepted beyond that point. Missing work will earn a zero grade.\n",
    "\n",
    "### E. Written Presentation Requirements (if applicable)\n",
    "Images must be clear and legible. Assignments will be judged on the basis of visual appearance, grammatical correctness, and quality of writing, as well as their contents. Please make sure that the text of your assignments is well-structured, using paragraphs, full sentences, and other features of well-written presentation.\n",
    "\n",
    "### F. Marking Schemes:\n",
    "\n",
    "Marking assignments will be based on several aspects: presentation, correctness and coding styles. \n",
    "\n",
    "1. Write a good comment for each variable, each method, each control branch, and each loop. \n",
    "2. Your method comments must mention the purpose of each parameter, and must be grammatically correct.  \n",
    "\n",
    "### G. Data Sets\n",
    "\n",
    "This assignment needs the data sets specified in the questions.\n",
    "\n",
    "### H. Answer the following questions"
   ]
  },
  {
   "cell_type": "markdown",
   "metadata": {},
   "source": [
    "#### Question 1:\n",
    "\n",
    "Write Python programs to implement a list of  linear algebra operations as specified in the following functions. Your programs must implement the operations from scratch meaning the programs must implement the linear algebra definitions of the operations. For example, for two vectors $v$ and $w$, $v+w$ is defined as $\\sum_{i} (v[i] + w[i])$. Test your functions on some sample inputs."
   ]
  },
  {
   "cell_type": "code",
   "execution_count": 5,
   "metadata": {},
   "outputs": [],
   "source": [
    "# Sample testing vectors. Use more data for testing the functions.\n",
    "v = [2, 3.4, -6, 7, 0.9, -3.4]\n",
    "w = [4, -5, 1.2, 9.0, 3.14, 2.76]\n",
    "x = [0.2, 0.3, -0.4, 0, -1, 2]\n",
    "c = 1.14\n",
    "vectors = [v, w, x]"
   ]
  },
  {
   "cell_type": "code",
   "execution_count": 6,
   "metadata": {},
   "outputs": [
    {
     "data": {
      "text/plain": [
       "[6, -1.6, -4.8, 16.0, 4.04, -0.6400000000000001]"
      ]
     },
     "execution_count": 6,
     "metadata": {},
     "output_type": "execute_result"
    }
   ],
   "source": [
    "def vector_add(v, w):\n",
    "    \"\"\"\n",
    "    adds two vectors componentwise\n",
    "    INPUT: v, w are two vectors of numbers in the same length\n",
    "    OUTPUT: a vector containing the additions of the corresponding elements in v and w\n",
    "    \"\"\"\n",
    "    return [v_i + w_i for v_i, w_i in zip(v,w)]\n",
    "vector_add(v, w)"
   ]
  },
  {
   "cell_type": "code",
   "execution_count": 7,
   "metadata": {},
   "outputs": [
    {
     "data": {
      "text/plain": [
       "[-2, 8.4, -7.2, -2.0, -2.24, -6.16]"
      ]
     },
     "execution_count": 7,
     "metadata": {},
     "output_type": "execute_result"
    }
   ],
   "source": [
    "def vector_subtract(v, w):\n",
    "    \"\"\"\n",
    "    subtracts two vectors componentwise\n",
    "    INPUT: v, w are two vectors of numbers in the same length\n",
    "    OUTPUT: a vector containing the subtractions of the corresponding elements in v and w\n",
    "    \"\"\"\n",
    "    return [v_i - w_i for v_i, w_i in zip(v,w)]\n",
    "vector_subtract(v, w)"
   ]
  },
  {
   "cell_type": "code",
   "execution_count": 11,
   "metadata": {},
   "outputs": [
    {
     "data": {
      "text/plain": [
       "[6.2, -1.3, -5.2, 16.0, 3.04, 1.3599999999999999]"
      ]
     },
     "execution_count": 11,
     "metadata": {},
     "output_type": "execute_result"
    }
   ],
   "source": [
    "def vector_sum(vectors):\n",
    "    \"\"\"\n",
    "    adds a list of vectors componentwise\n",
    "    INPUT: vectors is a list of vectors in the same length\n",
    "    OUTPUT: a vectors containing the additions of the corresponding elements in the vectors\n",
    "    \"\"\"\n",
    "    sum = vectors[0]\n",
    "    for i in range(1, len(vectors)):\n",
    "        sum = vector_add(sum, vectors[i])\n",
    "        \n",
    "    return sum\n",
    "vector_sum(vectors)"
   ]
  },
  {
   "cell_type": "code",
   "execution_count": 12,
   "metadata": {},
   "outputs": [
    {
     "data": {
      "text/plain": [
       "[2.28,\n",
       " 3.8759999999999994,\n",
       " -6.84,\n",
       " 7.9799999999999995,\n",
       " 1.026,\n",
       " -3.8759999999999994]"
      ]
     },
     "execution_count": 12,
     "metadata": {},
     "output_type": "execute_result"
    }
   ],
   "source": [
    "def scalar_multiply(c, v):\n",
    "    \"\"\"\n",
    "    multiplies a vector by a scalar\n",
    "    INPUT:\n",
    "        c: a scalor\n",
    "        v: a vector of numbers\n",
    "    OUTPUT: a vector containing the values of multiplying the elmenents of v by c\n",
    "    \"\"\"\n",
    "    return [c * v_i for v_i in v]\n",
    "scalar_multiply(c, v)"
   ]
  },
  {
   "cell_type": "code",
   "execution_count": 14,
   "metadata": {},
   "outputs": [
    {
     "data": {
      "text/plain": [
       "40.242"
      ]
     },
     "execution_count": 14,
     "metadata": {},
     "output_type": "execute_result"
    }
   ],
   "source": [
    "def dot(v, w):\n",
    "    \"\"\"\n",
    "    computes the dot product of two vectors\n",
    "    INPUT: v and w are two vectors of numbers in the same length\n",
    "    OUTPUT: the dot product of v and w as defined as\n",
    "            v_1 * w_1 + ... + v_n * w_n\n",
    "    \"\"\"\n",
    "    return sum(v_i * w_i for v_i, w_i in zip(v, w))\n",
    "dot(v, w)"
   ]
  },
  {
   "cell_type": "code",
   "execution_count": 15,
   "metadata": {},
   "outputs": [
    {
     "data": {
      "text/plain": [
       "112.93"
      ]
     },
     "execution_count": 15,
     "metadata": {},
     "output_type": "execute_result"
    }
   ],
   "source": [
    "def sum_of_squares(v):\n",
    "    \"\"\"\n",
    "    computes the sum of squares of the elements in a vector\n",
    "    INPUT: v is a vector of numbers\n",
    "    OUTPUT: the sum of squares of the elements in v as defined as\n",
    "            v_1 * v_1 + ... + v_n * v_n\"\"\"\n",
    "    return dot(v, v)\n",
    "sum_of_squares(v)"
   ]
  },
  {
   "cell_type": "code",
   "execution_count": 18,
   "metadata": {},
   "outputs": [
    {
     "data": {
      "text/plain": [
       "10.626852779633301"
      ]
     },
     "execution_count": 18,
     "metadata": {},
     "output_type": "execute_result"
    }
   ],
   "source": [
    "import math\n",
    "def magnitude(v):\n",
    "    \"\"\"\n",
    "    computes the magnitude or length or Euclidean norm of a vector\n",
    "    INPUT: a vector of numbers\n",
    "    OUTPUT: the magnitude of the vector\n",
    "    \"\"\"\n",
    "    return math.sqrt(sum_of_squares(v))\n",
    "magnitude(v)"
   ]
  },
  {
   "cell_type": "code",
   "execution_count": 19,
   "metadata": {},
   "outputs": [
    {
     "data": {
      "text/plain": [
       "173.3632"
      ]
     },
     "execution_count": 19,
     "metadata": {},
     "output_type": "execute_result"
    }
   ],
   "source": [
    "def squared_distance(v, w):\n",
    "    \"\"\"\n",
    "    computes the squared distance between two vectors\n",
    "    INPUT: v and w are two vectors of numbers in the same length\n",
    "    OUTPUT: squared distance between v and w\n",
    "    \"\"\"\n",
    "    return sum_of_squares(vector_subtract(v, w))\n",
    "squared_distance(v, w)"
   ]
  },
  {
   "cell_type": "code",
   "execution_count": 21,
   "metadata": {},
   "outputs": [
    {
     "data": {
      "text/plain": [
       "13.16674599132223"
      ]
     },
     "execution_count": 21,
     "metadata": {},
     "output_type": "execute_result"
    }
   ],
   "source": [
    "def distance(v, w):\n",
    "    \"\"\"\n",
    "    computes the Euclidean distance between two vectors\n",
    "    INPUT: v and w are two vectors of numbers in the same length\n",
    "    OUTPUT: the Euclidean distance between v and w\n",
    "    \"\"\"\n",
    "    return math.sqrt(squared_distance(v, w))\n",
    "distance(v, w)"
   ]
  },
  {
   "cell_type": "code",
   "execution_count": 22,
   "metadata": {},
   "outputs": [
    {
     "data": {
      "text/plain": [
       "0.6500000000000001"
      ]
     },
     "execution_count": 22,
     "metadata": {},
     "output_type": "execute_result"
    }
   ],
   "source": [
    "def mean(v):\n",
    "    \"\"\"\n",
    "    computes the mean of a vector of numbers\n",
    "    INPUT: v is a vector of numbers\n",
    "    OUTPUT: the mean value of v\n",
    "    \"\"\"\n",
    "    return sum(v) / len(v)\n",
    "mean(v)"
   ]
  },
  {
   "cell_type": "markdown",
   "metadata": {},
   "source": [
    "#### Question 2:\n",
    "By K nearest neighbor (KNN) classification, an instance is classified by the majority label among its k nearest neighbors. One issue with identifying the majority label is to break the tie between two labels having equal number of votes. There are several options:\n",
    "* Pick one of the winners at random.\n",
    "* Weight the votes by distance and pick the weighted winner.\n",
    "* Reduce k until we find a unique winner.\n",
    "\n",
    "You are asked to implement from scratch the following function: `majority_vote_weighted(labels, distances)` \n",
    "\n",
    "The function takes as input a list of labels and a list of distances corresponding to the labels. It returns the majority label as follows: (1) assigning a weight to each label by the inverse of its distance, (2) summing up the weights of all the same labels, (3) returning the label with highest average weight (the sum divided by the count of the label), (4) breaking the tie by randomly choosing a label if multiple labels have the same highest average weight. \n",
    "\n",
    "Test the function on sample inputs"
   ]
  },
  {
   "cell_type": "code",
   "execution_count": 72,
   "metadata": {},
   "outputs": [
    {
     "data": {
      "text/plain": [
       "True"
      ]
     },
     "execution_count": 72,
     "metadata": {},
     "output_type": "execute_result"
    }
   ],
   "source": [
    "# some sample data\n",
    "labels = [\"red\", \"green\", \"green\", \"yellow\", \"purple\", \"yellow\", \"red\", \"red\", \"purple\", \"green\"]\n",
    "distances = [0.5, 0.6, 1.2, 2.4, 5, 6, 7.8, 9, 12, 14.5]\n",
    "len(labels) == len(distances)"
   ]
  },
  {
   "cell_type": "code",
   "execution_count": 73,
   "metadata": {},
   "outputs": [
    {
     "data": {
      "text/plain": [
       "'green'"
      ]
     },
     "execution_count": 73,
     "metadata": {},
     "output_type": "execute_result"
    }
   ],
   "source": [
    "import math, random\n",
    "from collections import defaultdict, Counter\n",
    "\n",
    "def majority_vote_weighted(labels, distances):\n",
    "    weights = [1/x for x in distances]\n",
    "    label_weight = defaultdict(float)\n",
    "    for i, l in enumerate(labels):\n",
    "        label_weight[l] = label_weight[l] + weights[i]\n",
    "    counts = Counter(labels)\n",
    "    \n",
    "    for l in label_weight:\n",
    "        label_weight[l] = label_weight[l] / counts[l]\n",
    "    \n",
    "    max_weight = max(label_weight.values())\n",
    "    \n",
    "    candidates = []\n",
    "    for l in label_weight:\n",
    "        if label_weight[l] == max_weight:\n",
    "            candidates.append(l)\n",
    "    if len(candidates) == 1:\n",
    "        return candidates[0]\n",
    "    else:\n",
    "        return random.choice(candidates)\n",
    "\n",
    "majority_vote_weighted(labels, distances)"
   ]
  },
  {
   "cell_type": "code",
   "execution_count": null,
   "metadata": {},
   "outputs": [],
   "source": []
  }
 ],
 "metadata": {
  "kernelspec": {
   "display_name": "Python 3",
   "language": "python",
   "name": "python3"
  },
  "language_info": {
   "codemirror_mode": {
    "name": "ipython",
    "version": 3
   },
   "file_extension": ".py",
   "mimetype": "text/x-python",
   "name": "python",
   "nbconvert_exporter": "python",
   "pygments_lexer": "ipython3",
   "version": "3.6.4"
  }
 },
 "nbformat": 4,
 "nbformat_minor": 2
}
