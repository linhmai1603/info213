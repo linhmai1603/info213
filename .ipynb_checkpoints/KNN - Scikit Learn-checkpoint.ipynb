{
 "cells": [
  {
   "cell_type": "markdown",
   "metadata": {},
   "source": [
    "# KNN"
   ]
  },
  {
   "cell_type": "code",
<<<<<<< HEAD
   "execution_count": 19,
   "metadata": {},
   "outputs": [],
   "source": [
    "from sklearn import preprocessing, cross_validation, neighbors\n",
    "import numpy as np\n",
    "import pandas as pd\n",
    "import matplotlib.pyplot as plt\n",
    "from matplotlib.colors import ListedColormap\n",
    "\n",
    "\n",
    "%matplotlib inline"
=======
   "execution_count": 1,
   "metadata": {},
   "outputs": [
    {
     "name": "stderr",
     "output_type": "stream",
     "text": [
      "/Users/RajPatel/anaconda3/lib/python3.6/site-packages/sklearn/cross_validation.py:41: DeprecationWarning: This module was deprecated in version 0.18 in favor of the model_selection module into which all the refactored classes and functions are moved. Also note that the interface of the new CV iterators are different from that of this module. This module will be removed in 0.20.\n",
      "  \"This module will be removed in 0.20.\", DeprecationWarning)\n"
     ]
    }
   ],
   "source": [
    "import numpy as np\n",
    "from sklearn import preprocessing, cross_validation, neighbors\n",
    "import pandas as pd"
>>>>>>> 36aa3cdeaec499b5364257fd69ab4943640bcb81
   ]
  },
  {
   "cell_type": "code",
<<<<<<< HEAD
   "execution_count": 20,
=======
   "execution_count": 2,
>>>>>>> 36aa3cdeaec499b5364257fd69ab4943640bcb81
   "metadata": {},
   "outputs": [
    {
     "data": {
      "text/html": [
       "<div>\n",
       "<style scoped>\n",
       "    .dataframe tbody tr th:only-of-type {\n",
       "        vertical-align: middle;\n",
       "    }\n",
       "\n",
       "    .dataframe tbody tr th {\n",
       "        vertical-align: top;\n",
       "    }\n",
       "\n",
       "    .dataframe thead th {\n",
       "        text-align: right;\n",
       "    }\n",
       "</style>\n",
       "<table border=\"1\" class=\"dataframe\">\n",
       "  <thead>\n",
       "    <tr style=\"text-align: right;\">\n",
       "      <th></th>\n",
       "      <th>id</th>\n",
       "      <th>clump_thickness</th>\n",
       "      <th>unif_cell_size</th>\n",
       "      <th>unif_cell_shape</th>\n",
       "      <th>marg_adhesion</th>\n",
       "      <th>single_epith_cell_size</th>\n",
       "      <th>bare_nuclei</th>\n",
       "      <th>bland_chrom</th>\n",
       "      <th>norm_nucleoli</th>\n",
       "      <th>mitoses</th>\n",
       "      <th>class</th>\n",
       "    </tr>\n",
       "  </thead>\n",
       "  <tbody>\n",
       "    <tr>\n",
       "      <th>0</th>\n",
       "      <td>1000025</td>\n",
       "      <td>5</td>\n",
       "      <td>1</td>\n",
       "      <td>1</td>\n",
       "      <td>1</td>\n",
       "      <td>2</td>\n",
       "      <td>1</td>\n",
       "      <td>3</td>\n",
       "      <td>1</td>\n",
       "      <td>1</td>\n",
       "      <td>2</td>\n",
       "    </tr>\n",
       "    <tr>\n",
       "      <th>1</th>\n",
       "      <td>1002945</td>\n",
       "      <td>5</td>\n",
       "      <td>4</td>\n",
       "      <td>4</td>\n",
       "      <td>5</td>\n",
       "      <td>7</td>\n",
       "      <td>10</td>\n",
       "      <td>3</td>\n",
       "      <td>2</td>\n",
       "      <td>1</td>\n",
       "      <td>2</td>\n",
       "    </tr>\n",
       "    <tr>\n",
       "      <th>2</th>\n",
       "      <td>1015425</td>\n",
       "      <td>3</td>\n",
       "      <td>1</td>\n",
       "      <td>1</td>\n",
       "      <td>1</td>\n",
       "      <td>2</td>\n",
       "      <td>2</td>\n",
       "      <td>3</td>\n",
       "      <td>1</td>\n",
       "      <td>1</td>\n",
       "      <td>2</td>\n",
       "    </tr>\n",
       "    <tr>\n",
       "      <th>3</th>\n",
       "      <td>1016277</td>\n",
       "      <td>6</td>\n",
       "      <td>8</td>\n",
       "      <td>8</td>\n",
       "      <td>1</td>\n",
       "      <td>3</td>\n",
       "      <td>4</td>\n",
       "      <td>3</td>\n",
       "      <td>7</td>\n",
       "      <td>1</td>\n",
       "      <td>2</td>\n",
       "    </tr>\n",
       "    <tr>\n",
       "      <th>4</th>\n",
       "      <td>1017023</td>\n",
       "      <td>4</td>\n",
       "      <td>1</td>\n",
       "      <td>1</td>\n",
       "      <td>3</td>\n",
       "      <td>2</td>\n",
       "      <td>1</td>\n",
       "      <td>3</td>\n",
       "      <td>1</td>\n",
       "      <td>1</td>\n",
       "      <td>2</td>\n",
       "    </tr>\n",
       "  </tbody>\n",
       "</table>\n",
       "</div>"
      ],
      "text/plain": [
       "        id  clump_thickness  unif_cell_size  unif_cell_shape  marg_adhesion  \\\n",
       "0  1000025                5               1                1              1   \n",
       "1  1002945                5               4                4              5   \n",
       "2  1015425                3               1                1              1   \n",
       "3  1016277                6               8                8              1   \n",
       "4  1017023                4               1                1              3   \n",
       "\n",
       "   single_epith_cell_size bare_nuclei  bland_chrom  norm_nucleoli  mitoses  \\\n",
       "0                       2           1            3              1        1   \n",
       "1                       7          10            3              2        1   \n",
       "2                       2           2            3              1        1   \n",
       "3                       3           4            3              7        1   \n",
       "4                       2           1            3              1        1   \n",
       "\n",
       "   class  \n",
       "0      2  \n",
       "1      2  \n",
       "2      2  \n",
       "3      2  \n",
       "4      2  "
      ]
     },
<<<<<<< HEAD
     "execution_count": 20,
=======
     "execution_count": 2,
>>>>>>> 36aa3cdeaec499b5364257fd69ab4943640bcb81
     "metadata": {},
     "output_type": "execute_result"
    }
   ],
   "source": [
    "df = pd.read_csv('DataSets/breast-cancer-wisconsin.txt')\n",
    "df.head()"
   ]
  },
  {
   "cell_type": "code",
<<<<<<< HEAD
   "execution_count": 21,
=======
   "execution_count": 3,
>>>>>>> 36aa3cdeaec499b5364257fd69ab4943640bcb81
   "metadata": {},
   "outputs": [],
   "source": [
    "#switch out missing data\n",
    "df.replace('?', -99999, inplace = True)"
   ]
  },
  {
   "cell_type": "code",
<<<<<<< HEAD
   "execution_count": 22,
=======
   "execution_count": 4,
>>>>>>> 36aa3cdeaec499b5364257fd69ab4943640bcb81
   "metadata": {},
   "outputs": [],
   "source": [
    "#ID column is of no help\n",
    "df.drop(['id'], 1, inplace = True)"
   ]
  },
  {
   "cell_type": "code",
<<<<<<< HEAD
   "execution_count": 23,
=======
   "execution_count": 5,
>>>>>>> 36aa3cdeaec499b5364257fd69ab4943640bcb81
   "metadata": {},
   "outputs": [],
   "source": [
    "#X = training data\n",
    "X = np.array(df.drop(['class'],1))\n",
    "#y = testing data\n",
    "y = np.array(df['class'])"
   ]
  },
  {
   "cell_type": "code",
<<<<<<< HEAD
   "execution_count": 24,
=======
   "execution_count": 6,
>>>>>>> 36aa3cdeaec499b5364257fd69ab4943640bcb81
   "metadata": {},
   "outputs": [],
   "source": [
    "X_train, X_test, y_train, y_test = cross_validation.train_test_split(X,y,test_size = 0.2)"
   ]
  },
  {
   "cell_type": "code",
<<<<<<< HEAD
   "execution_count": 25,
   "metadata": {},
   "outputs": [
    {
     "name": "stdout",
     "output_type": "stream",
     "text": [
      "[0.95, 0.9357142857142857, 0.9785714285714285, 0.9714285714285714, 0.9785714285714285, 0.9714285714285714, 0.9785714285714285, 0.9714285714285714, 0.9714285714285714, 0.9714285714285714, 0.9714285714285714, 0.9714285714285714, 0.9714285714285714, 0.9714285714285714, 0.9714285714285714, 0.9714285714285714, 0.9714285714285714, 0.9714285714285714, 0.9714285714285714]\n"
     ]
    }
   ],
   "source": [
    "k_range = range(1,20)\n",
    "scores = []\n",
    "for k in k_range:\n",
    "    clf = neighbors.KNeighborsClassifier(n_neighbors = k)\n",
    "    clf.fit(X_train, y_train)\n",
    "    scores.append(clf.score(X_test, y_test))\n",
    "print(scores)"
=======
   "execution_count": 7,
   "metadata": {},
   "outputs": [],
   "source": [
    "clf = neighbors.KNeighborsClassifier()"
>>>>>>> 36aa3cdeaec499b5364257fd69ab4943640bcb81
   ]
  },
  {
   "cell_type": "code",
<<<<<<< HEAD
   "execution_count": 26,
=======
   "execution_count": 8,
>>>>>>> 36aa3cdeaec499b5364257fd69ab4943640bcb81
   "metadata": {},
   "outputs": [
    {
     "data": {
      "text/plain": [
<<<<<<< HEAD
       "Text(0,0.5,'Testing Accuracy')"
      ]
     },
     "execution_count": 26,
     "metadata": {},
     "output_type": "execute_result"
    },
    {
     "data": {
      "image/png": "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\n",
      "text/plain": [
       "<Figure size 432x288 with 1 Axes>"
      ]
     },
     "metadata": {},
     "output_type": "display_data"
    }
   ],
   "source": [
    "plt.plot(k_range, scores)\n",
    "plt.xlabel('Value of K for KNN for Minkowski distance')\n",
    "plt.ylabel('Testing Accuracy')"
=======
       "KNeighborsClassifier(algorithm='auto', leaf_size=30, metric='minkowski',\n",
       "           metric_params=None, n_jobs=1, n_neighbors=5, p=2,\n",
       "           weights='uniform')"
      ]
     },
     "execution_count": 8,
     "metadata": {},
     "output_type": "execute_result"
    }
   ],
   "source": [
    "clf.fit(X_train, y_train)"
>>>>>>> 36aa3cdeaec499b5364257fd69ab4943640bcb81
   ]
  },
  {
   "cell_type": "code",
<<<<<<< HEAD
   "execution_count": 28,
   "metadata": {},
   "outputs": [
    {
     "name": "stdout",
     "output_type": "stream",
     "text": [
      "[0.9714285714285714, 0.9357142857142857, 0.9857142857142858, 0.9785714285714285, 0.9857142857142858, 0.9785714285714285, 0.9785714285714285, 0.9714285714285714, 0.9785714285714285, 0.9785714285714285, 0.9785714285714285, 0.9785714285714285, 0.9785714285714285, 0.9785714285714285, 0.9785714285714285, 0.9785714285714285, 0.9785714285714285, 0.9785714285714285, 0.9785714285714285]\n"
     ]
    }
   ],
   "source": [
    "from sklearn.metrics import accuracy_score\n",
    "from sklearn.neighbors import KNeighborsClassifier\n",
    "k_range = range(1,20)\n",
    "scores = []\n",
    "for k in k_range:\n",
    "    clf = KNeighborsClassifier(n_neighbors = k, p = 1)\n",
    "    clf.fit(X_train, y_train)\n",
    "    scores.append(clf.score(X_test, y_test))\n",
    "print(scores)"
   ]
  },
  {
   "cell_type": "code",
   "execution_count": 29,
   "metadata": {},
   "outputs": [
    {
     "data": {
      "text/plain": [
       "Text(0,0.5,'Testing Accuracy')"
      ]
     },
     "execution_count": 29,
     "metadata": {},
     "output_type": "execute_result"
    },
    {
     "data": {
      "image/png": "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\n",
      "text/plain": [
       "<Figure size 432x288 with 1 Axes>"
      ]
     },
     "metadata": {},
     "output_type": "display_data"
    }
   ],
   "source": [
    "plt.plot(k_range, scores)\n",
    "plt.xlabel('Value of K for KNN using Manhattan distance')\n",
    "plt.ylabel('Testing Accuracy')"
=======
   "execution_count": 9,
   "metadata": {},
   "outputs": [],
   "source": [
    "accuracy = clf.score(X_test, y_test)"
>>>>>>> 36aa3cdeaec499b5364257fd69ab4943640bcb81
   ]
  },
  {
   "cell_type": "code",
<<<<<<< HEAD
   "execution_count": 30,
=======
   "execution_count": 10,
>>>>>>> 36aa3cdeaec499b5364257fd69ab4943640bcb81
   "metadata": {},
   "outputs": [
    {
     "name": "stdout",
     "output_type": "stream",
     "text": [
<<<<<<< HEAD
      "[0.95, 0.9357142857142857, 0.9785714285714285, 0.9714285714285714, 0.9785714285714285, 0.9714285714285714, 0.9785714285714285, 0.9714285714285714, 0.9714285714285714, 0.9714285714285714, 0.9714285714285714, 0.9714285714285714, 0.9714285714285714, 0.9714285714285714, 0.9714285714285714, 0.9714285714285714, 0.9714285714285714, 0.9714285714285714, 0.9714285714285714]\n"
=======
      "0.992857142857\n"
>>>>>>> 36aa3cdeaec499b5364257fd69ab4943640bcb81
     ]
    }
   ],
   "source": [
<<<<<<< HEAD
    "from sklearn.metrics import accuracy_score\n",
    "from sklearn.neighbors import KNeighborsClassifier\n",
    "k_range = range(1,20)\n",
    "scores = []\n",
    "for k in k_range:\n",
    "    clf = KNeighborsClassifier(n_neighbors = k, p = 2)\n",
    "    clf.fit(X_train, y_train)\n",
    "    scores.append(clf.score(X_test, y_test))\n",
    "print(scores)"
=======
    "print(accuracy)"
>>>>>>> 36aa3cdeaec499b5364257fd69ab4943640bcb81
   ]
  },
  {
   "cell_type": "code",
<<<<<<< HEAD
   "execution_count": 31,
   "metadata": {},
   "outputs": [
    {
     "data": {
      "text/plain": [
       "Text(0,0.5,'Testing Accuracy')"
      ]
     },
     "execution_count": 31,
     "metadata": {},
     "output_type": "execute_result"
    },
    {
     "data": {
      "image/png": "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\n",
      "text/plain": [
       "<Figure size 432x288 with 1 Axes>"
      ]
     },
     "metadata": {},
     "output_type": "display_data"
    }
   ],
   "source": [
    "plt.plot(k_range, scores)\n",
    "plt.xlabel('Value of K for KNN using Euclidean distance')\n",
    "plt.ylabel('Testing Accuracy')"
   ]
  },
  {
   "cell_type": "code",
   "execution_count": 12,
=======
   "execution_count": 11,
>>>>>>> 36aa3cdeaec499b5364257fd69ab4943640bcb81
   "metadata": {},
   "outputs": [
    {
     "name": "stdout",
     "output_type": "stream",
     "text": [
      "Index(['clump_thickness', 'unif_cell_size', 'unif_cell_shape', 'marg_adhesion',\n",
      "       'single_epith_cell_size', 'bare_nuclei', 'bland_chrom', 'norm_nucleoli',\n",
      "       'mitoses', 'class'],\n",
      "      dtype='object')\n"
     ]
    }
   ],
   "source": [
    "print(df.columns)"
   ]
  },
  {
   "cell_type": "code",
<<<<<<< HEAD
   "execution_count": 13,
=======
   "execution_count": 12,
>>>>>>> 36aa3cdeaec499b5364257fd69ab4943640bcb81
   "metadata": {},
   "outputs": [],
   "source": [
    "#sample test - must be a list of lists\n",
    "example_measures = np.array([[4,2,1,1,1,2,3,2,1], [8,6,4,3,1,5,3,4,2]])\n",
    "\n",
    "#1st arg in reshape is for number of test samples\n",
    "example_measures = example_measures.reshape(len(example_measures),-1)"
   ]
  },
  {
   "cell_type": "code",
<<<<<<< HEAD
   "execution_count": 14,
=======
   "execution_count": 13,
>>>>>>> 36aa3cdeaec499b5364257fd69ab4943640bcb81
   "metadata": {},
   "outputs": [],
   "source": [
    "prediction = clf.predict(example_measures)"
   ]
  },
  {
   "cell_type": "code",
<<<<<<< HEAD
   "execution_count": 15,
=======
   "execution_count": 14,
>>>>>>> 36aa3cdeaec499b5364257fd69ab4943640bcb81
   "metadata": {},
   "outputs": [
    {
     "name": "stdout",
     "output_type": "stream",
     "text": [
      "[2 4]\n"
     ]
    }
   ],
   "source": [
    "#2 for benign, 4 for malignant\n",
    "print(prediction)"
   ]
  }
 ],
 "metadata": {
  "kernelspec": {
   "display_name": "Python 3",
   "language": "python",
   "name": "python3"
  },
  "language_info": {
   "codemirror_mode": {
    "name": "ipython",
    "version": 3
   },
   "file_extension": ".py",
   "mimetype": "text/x-python",
   "name": "python",
   "nbconvert_exporter": "python",
   "pygments_lexer": "ipython3",
<<<<<<< HEAD
   "version": "3.6.5"
=======
   "version": "3.6.4"
>>>>>>> 36aa3cdeaec499b5364257fd69ab4943640bcb81
  }
 },
 "nbformat": 4,
 "nbformat_minor": 2
}
