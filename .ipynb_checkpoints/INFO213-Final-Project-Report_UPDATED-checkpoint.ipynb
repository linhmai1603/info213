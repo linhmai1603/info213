{
 "cells": [
  {
   "cell_type": "markdown",
   "metadata": {},
   "source": [
    "### College of Computing and Informatics, Drexel University\n",
    "### INFO 213: Data Science Programming II, Summer 2018\n",
    "---\n",
    "\n",
    "## Final Project Report\n",
    "\n",
    "## Project Title: Identifying Breast Cancer\n",
    "\n",
    "## Student(s): Raj B. Patel & Linh Mai\n",
    "\n",
    "#### Date: 08/11/18\n",
    "---"
   ]
  },
  {
   "cell_type": "markdown",
   "metadata": {},
   "source": [
    "#### Abstract\n",
    "---\n",
    "*(Briefly summarize the project including the problem, data sets, models, and final findings.)* "
   ]
  },
  {
   "cell_type": "markdown",
   "metadata": {},
   "source": [
    "The purpose of this project is to see if a custom implemtation of KNN would outperform an implementation of KNN from the Scikit Learn library. The data is made of several features: ID Number, Clump Thickness, Uniformity of Cell Size, Uniformity of Cell Shape, Marginal Adhesion, Single Epithelial Cell Size, Bare Nuclei, Bland Chromatin, Normal Nucleoli, Mitoses, and Class. There is missing data to account for. Uniformity of Cell Shape and Uniformity of Cell Size are two highly correlated features. At the end, the custom KNN implementation ended up performing better by a small margin. "
   ]
  },
  {
   "cell_type": "markdown",
   "metadata": {},
   "source": [
    "### 1. Introduction\n",
    "---\n",
    "*(Introduce the project, describe the objectives, and highlight the key findings.)* "
   ]
  },
  {
   "cell_type": "markdown",
   "metadata": {},
   "source": [
    "For this project, we are planning to use the Breast Cancer Wisconsin Dataset from the University of California, Irvine. According to the Susan G. Komen Foundation, 1 in 8 women will be diagnosed of invasive breast cancer. The dataset offers the opportunity to classify whether or not someone has breast cancer based on 9 true features. The objective for this project is to identify the best K-Nearest Neighbor approach to identify breast cancer with the best accuracy. Hopefully, the results of this projects can be of use to others. \n",
    "\n",
    "### The specific objectives will be the folllowing:\n",
    "### - Adding the feature names to the data set\n",
    "### - Removing the ID column values\n",
    "### - Rename the Class column\n",
    "### - Filling in missing data\n",
    "### - Create a KNN classifier from scratch\n",
    "### - Compare & vizualize different distance methods\n",
    "### - Evaluate that model\n",
    "### - Use the Scikit Learn package as a KNN classifier\n",
    "### - Compare & vizualize different distance methods\n",
    "### - Evaluate that model "
   ]
  },
  {
   "cell_type": "markdown",
   "metadata": {},
   "source": [
    "### 2. Problem Definition\n",
    "---\n",
    "*(Define the problem that will be solved in this data analytics project.)*"
   ]
  },
  {
   "cell_type": "markdown",
   "metadata": {},
   "source": [
    "The problem to be addressed with this dataset is to identify which KNN implementation has the best accuracy, and speculate why. The stakeholders for this problem would be anyone who is interested in their health as breast cancer can happen to both men and women. Since this problem affects many people across the world, everyone can possibly benefit from this project, even if it just to increase their awareness. "
   ]
  },
  {
   "cell_type": "markdown",
   "metadata": {},
   "source": [
    "### 3. Data Sets\n",
    "---\n",
    "*(Describe the origin of the data sources. What is the format of the original data? How to access the data?)*"
   ]
  },
  {
   "cell_type": "markdown",
   "metadata": {},
   "source": [
    "The data set used for this project is from the University of California, Irvine's Center for Machine Learning and Intelligent Systems. It was collected by Dr. William H. Wolberg from the University of Wisconsin, Clinical Sciences Center in Madison, Wisconsin. This data was collected in 1995. The format of this data is a text file. There is separate metadata for feature labels. \n",
    "\n",
    "https://archive.ics.uci.edu/ml/datasets/Breast+Cancer+Wisconsin+%28Prognostic%29"
   ]
  },
  {
   "cell_type": "markdown",
   "metadata": {},
   "source": [
    "### 4. Preparation\n",
    "---\n",
    "*(Describe and present any code and methods for cleaning, munging, combining, normalizing, reshaping, slicing and dicing, and transforming data for analysis.)*"
   ]
  },
  {
   "cell_type": "code",
   "execution_count": 2,
   "metadata": {},
   "outputs": [
    {
     "name": "stderr",
     "output_type": "stream",
     "text": [
      "C:\\Users\\kpos7\\Anaconda3\\lib\\site-packages\\sklearn\\cross_validation.py:41: DeprecationWarning: This module was deprecated in version 0.18 in favor of the model_selection module into which all the refactored classes and functions are moved. Also note that the interface of the new CV iterators are different from that of this module. This module will be removed in 0.20.\n",
      "  \"This module will be removed in 0.20.\", DeprecationWarning)\n"
     ]
    }
   ],
   "source": [
    "#import libraries\n",
    "import numpy as np\n",
    "from sklearn import preprocessing, cross_validation, neighbors\n",
    "import pandas as pd\n",
    "from matplotlib import pyplot as plt\n",
    "%matplotlib inline\n",
    "from math import sqrt\n",
    "from matplotlib import style\n",
    "from matplotlib import cm as cm\n",
    "from collections import Counter\n",
    "import random"
   ]
  },
  {
   "cell_type": "code",
   "execution_count": 3,
   "metadata": {},
   "outputs": [
    {
     "data": {
      "text/html": [
       "<div>\n",
       "<style scoped>\n",
       "    .dataframe tbody tr th:only-of-type {\n",
       "        vertical-align: middle;\n",
       "    }\n",
       "\n",
       "    .dataframe tbody tr th {\n",
       "        vertical-align: top;\n",
       "    }\n",
       "\n",
       "    .dataframe thead th {\n",
       "        text-align: right;\n",
       "    }\n",
       "</style>\n",
       "<table border=\"1\" class=\"dataframe\">\n",
       "  <thead>\n",
       "    <tr style=\"text-align: right;\">\n",
       "      <th></th>\n",
       "      <th>ID Number</th>\n",
       "      <th>Clump Thickness</th>\n",
       "      <th>Uniformity of Cell Size</th>\n",
       "      <th>Uniformity of Cell Shape</th>\n",
       "      <th>Marginal Adhesion</th>\n",
       "      <th>Single Epithelial Cell Size</th>\n",
       "      <th>Bare Nuclei</th>\n",
       "      <th>Bland Chromatin</th>\n",
       "      <th>Normal Nucleoli</th>\n",
       "      <th>Mitoses</th>\n",
       "      <th>Class</th>\n",
       "    </tr>\n",
       "  </thead>\n",
       "  <tbody>\n",
       "    <tr>\n",
       "      <th>0</th>\n",
       "      <td>1000025</td>\n",
       "      <td>5</td>\n",
       "      <td>1</td>\n",
       "      <td>1</td>\n",
       "      <td>1</td>\n",
       "      <td>2</td>\n",
       "      <td>1</td>\n",
       "      <td>3</td>\n",
       "      <td>1</td>\n",
       "      <td>1</td>\n",
       "      <td>2</td>\n",
       "    </tr>\n",
       "    <tr>\n",
       "      <th>1</th>\n",
       "      <td>1002945</td>\n",
       "      <td>5</td>\n",
       "      <td>4</td>\n",
       "      <td>4</td>\n",
       "      <td>5</td>\n",
       "      <td>7</td>\n",
       "      <td>10</td>\n",
       "      <td>3</td>\n",
       "      <td>2</td>\n",
       "      <td>1</td>\n",
       "      <td>2</td>\n",
       "    </tr>\n",
       "    <tr>\n",
       "      <th>2</th>\n",
       "      <td>1015425</td>\n",
       "      <td>3</td>\n",
       "      <td>1</td>\n",
       "      <td>1</td>\n",
       "      <td>1</td>\n",
       "      <td>2</td>\n",
       "      <td>2</td>\n",
       "      <td>3</td>\n",
       "      <td>1</td>\n",
       "      <td>1</td>\n",
       "      <td>2</td>\n",
       "    </tr>\n",
       "    <tr>\n",
       "      <th>3</th>\n",
       "      <td>1016277</td>\n",
       "      <td>6</td>\n",
       "      <td>8</td>\n",
       "      <td>8</td>\n",
       "      <td>1</td>\n",
       "      <td>3</td>\n",
       "      <td>4</td>\n",
       "      <td>3</td>\n",
       "      <td>7</td>\n",
       "      <td>1</td>\n",
       "      <td>2</td>\n",
       "    </tr>\n",
       "    <tr>\n",
       "      <th>4</th>\n",
       "      <td>1017023</td>\n",
       "      <td>4</td>\n",
       "      <td>1</td>\n",
       "      <td>1</td>\n",
       "      <td>3</td>\n",
       "      <td>2</td>\n",
       "      <td>1</td>\n",
       "      <td>3</td>\n",
       "      <td>1</td>\n",
       "      <td>1</td>\n",
       "      <td>2</td>\n",
       "    </tr>\n",
       "  </tbody>\n",
       "</table>\n",
       "</div>"
      ],
      "text/plain": [
       "   ID Number  Clump Thickness  Uniformity of Cell Size  \\\n",
       "0    1000025                5                        1   \n",
       "1    1002945                5                        4   \n",
       "2    1015425                3                        1   \n",
       "3    1016277                6                        8   \n",
       "4    1017023                4                        1   \n",
       "\n",
       "   Uniformity of Cell Shape  Marginal Adhesion  Single Epithelial Cell Size  \\\n",
       "0                         1                  1                            2   \n",
       "1                         4                  5                            7   \n",
       "2                         1                  1                            2   \n",
       "3                         8                  1                            3   \n",
       "4                         1                  3                            2   \n",
       "\n",
       "  Bare Nuclei  Bland Chromatin  Normal Nucleoli  Mitoses  Class  \n",
       "0           1                3                1        1      2  \n",
       "1          10                3                2        1      2  \n",
       "2           2                3                1        1      2  \n",
       "3           4                3                7        1      2  \n",
       "4           1                3                1        1      2  "
      ]
     },
     "execution_count": 3,
     "metadata": {},
     "output_type": "execute_result"
    }
   ],
   "source": [
    "#read & display data set\n",
    "df = pd.read_csv('DataSets/breast-cancer-wisconsin.txt')\n",
    "df.head()"
   ]
  },
  {
   "cell_type": "code",
   "execution_count": 4,
   "metadata": {},
   "outputs": [
    {
     "data": {
      "text/html": [
       "<div>\n",
       "<style scoped>\n",
       "    .dataframe tbody tr th:only-of-type {\n",
       "        vertical-align: middle;\n",
       "    }\n",
       "\n",
       "    .dataframe tbody tr th {\n",
       "        vertical-align: top;\n",
       "    }\n",
       "\n",
       "    .dataframe thead th {\n",
       "        text-align: right;\n",
       "    }\n",
       "</style>\n",
       "<table border=\"1\" class=\"dataframe\">\n",
       "  <thead>\n",
       "    <tr style=\"text-align: right;\">\n",
       "      <th></th>\n",
       "      <th>ID Number</th>\n",
       "      <th>Clump Thickness</th>\n",
       "      <th>Uniformity of Cell Size</th>\n",
       "      <th>Uniformity of Cell Shape</th>\n",
       "      <th>Marginal Adhesion</th>\n",
       "      <th>Single Epithelial Cell Size</th>\n",
       "      <th>Bare Nuclei</th>\n",
       "      <th>Bland Chromatin</th>\n",
       "      <th>Normal Nucleoli</th>\n",
       "      <th>Mitoses</th>\n",
       "      <th>Class</th>\n",
       "    </tr>\n",
       "  </thead>\n",
       "  <tbody>\n",
       "    <tr>\n",
       "      <th>0</th>\n",
       "      <td>1000025</td>\n",
       "      <td>5</td>\n",
       "      <td>1</td>\n",
       "      <td>1</td>\n",
       "      <td>1</td>\n",
       "      <td>2</td>\n",
       "      <td>1</td>\n",
       "      <td>3</td>\n",
       "      <td>1</td>\n",
       "      <td>1</td>\n",
       "      <td>0</td>\n",
       "    </tr>\n",
       "    <tr>\n",
       "      <th>1</th>\n",
       "      <td>1002945</td>\n",
       "      <td>5</td>\n",
       "      <td>4</td>\n",
       "      <td>4</td>\n",
       "      <td>5</td>\n",
       "      <td>7</td>\n",
       "      <td>10</td>\n",
       "      <td>3</td>\n",
       "      <td>2</td>\n",
       "      <td>1</td>\n",
       "      <td>0</td>\n",
       "    </tr>\n",
       "    <tr>\n",
       "      <th>2</th>\n",
       "      <td>1015425</td>\n",
       "      <td>3</td>\n",
       "      <td>1</td>\n",
       "      <td>1</td>\n",
       "      <td>1</td>\n",
       "      <td>2</td>\n",
       "      <td>2</td>\n",
       "      <td>3</td>\n",
       "      <td>1</td>\n",
       "      <td>1</td>\n",
       "      <td>0</td>\n",
       "    </tr>\n",
       "    <tr>\n",
       "      <th>3</th>\n",
       "      <td>1016277</td>\n",
       "      <td>6</td>\n",
       "      <td>8</td>\n",
       "      <td>8</td>\n",
       "      <td>1</td>\n",
       "      <td>3</td>\n",
       "      <td>4</td>\n",
       "      <td>3</td>\n",
       "      <td>7</td>\n",
       "      <td>1</td>\n",
       "      <td>0</td>\n",
       "    </tr>\n",
       "    <tr>\n",
       "      <th>4</th>\n",
       "      <td>1017023</td>\n",
       "      <td>4</td>\n",
       "      <td>1</td>\n",
       "      <td>1</td>\n",
       "      <td>3</td>\n",
       "      <td>2</td>\n",
       "      <td>1</td>\n",
       "      <td>3</td>\n",
       "      <td>1</td>\n",
       "      <td>1</td>\n",
       "      <td>0</td>\n",
       "    </tr>\n",
       "  </tbody>\n",
       "</table>\n",
       "</div>"
      ],
      "text/plain": [
       "   ID Number  Clump Thickness  Uniformity of Cell Size  \\\n",
       "0    1000025                5                        1   \n",
       "1    1002945                5                        4   \n",
       "2    1015425                3                        1   \n",
       "3    1016277                6                        8   \n",
       "4    1017023                4                        1   \n",
       "\n",
       "   Uniformity of Cell Shape  Marginal Adhesion  Single Epithelial Cell Size  \\\n",
       "0                         1                  1                            2   \n",
       "1                         4                  5                            7   \n",
       "2                         1                  1                            2   \n",
       "3                         8                  1                            3   \n",
       "4                         1                  3                            2   \n",
       "\n",
       "  Bare Nuclei  Bland Chromatin  Normal Nucleoli  Mitoses  Class  \n",
       "0           1                3                1        1      0  \n",
       "1          10                3                2        1      0  \n",
       "2           2                3                1        1      0  \n",
       "3           4                3                7        1      0  \n",
       "4           1                3                1        1      0  "
      ]
     },
     "execution_count": 4,
     "metadata": {},
     "output_type": "execute_result"
    }
   ],
   "source": [
    "# 2 is benign, 4 is malignant\n",
    "# change 2,4 to 0,1 for ease of understanding\n",
    "cleanup_nums = {\"Class\":  {2: 0, 4: 1}}\n",
    "df.replace(cleanup_nums, inplace=True)\n",
    "df.head(5)"
   ]
  },
  {
   "cell_type": "code",
   "execution_count": 5,
   "metadata": {},
   "outputs": [],
   "source": [
    "#switch out missing data\n",
    "df = df.replace('?', df.replace(['?'], [None]))"
   ]
  },
  {
   "cell_type": "code",
   "execution_count": 6,
   "metadata": {},
   "outputs": [
    {
     "name": "stdout",
     "output_type": "stream",
     "text": [
      "There are 0  missing values in column ID Number\n",
      "There are 0  missing values in column Clump Thickness\n",
      "There are 0  missing values in column Uniformity of Cell Size\n",
      "There are 0  missing values in column Uniformity of Cell Shape\n",
      "There are 0  missing values in column Marginal Adhesion\n",
      "There are 0  missing values in column Single Epithelial Cell Size\n",
      "There are 16  missing values in column Bare Nuclei\n",
      "There are 0  missing values in column Bland Chromatin\n",
      "There are 0  missing values in column Normal Nucleoli\n",
      "There are 0  missing values in column Mitoses\n",
      "There are 0  missing values in column Class\n"
     ]
    }
   ],
   "source": [
    "#check to see the number of missing values per feature\n",
    "for row in df:\n",
    "    value = df[row].isnull().sum()\n",
    "    print(\"There are\", value, \" missing values in column\",row)"
   ]
  },
  {
   "cell_type": "code",
   "execution_count": 7,
   "metadata": {},
   "outputs": [],
   "source": [
    "#Drop null values\n",
    "df = df.dropna()"
   ]
  },
  {
   "cell_type": "code",
   "execution_count": 8,
   "metadata": {},
   "outputs": [],
   "source": [
    "#ID column is of no help\n",
    "df.drop(['ID Number'], 1, inplace = True)"
   ]
  },
  {
   "cell_type": "markdown",
   "metadata": {},
   "source": [
    "### 5. Exploration and Visualization\n",
    "---\n",
    "*(Describe and present any code and methods for exploring and visualizing the data by analyzing its statistics and correlations between different features.)*"
   ]
  },
  {
   "cell_type": "code",
   "execution_count": 9,
   "metadata": {},
   "outputs": [
    {
     "data": {
      "image/png": "[encoded data removed]",
      "text/plain": [
       "<Figure size 1080x2160 with 2 Axes>"
      ]
     },
     "metadata": {},
     "output_type": "display_data"
    }
   ],
   "source": [
    "#correlation matrix\n",
    "\n",
    "#Configure plot\n",
    "fig = plt.figure(figsize = (15,30))\n",
    "ax1 = fig.add_subplot(111)\n",
    "cmap = cm.get_cmap('jet', 30)\n",
    "cax = ax1.imshow(df.corr(), interpolation=\"nearest\", cmap=cmap)\n",
    "ax1.grid(True)\n",
    "plt.title('Breast Cancer Feature Correlation')\n",
    "labels=[\"ID Number\",\"Clump Thickness\",\"Uniformity of Cell Size\",\"Uniformity of Cell Shape\",\"Marginal Adhesion\",\"Single Epithelial Cell Size\",\"Bare Nuclei\",\"Bland Chromatin\",\"Normal Nucleoli\",\"Mitoses\",\"Class\"]\n",
    "ax1.set_xticklabels(labels,fontsize=10, rotation = 45)\n",
    "ax1.set_yticklabels(labels,fontsize=10, rotation = 45)\n",
    "\n",
    "# Add colorbar, make sure to specify tick locations to match desired ticklabels\n",
    "fig.colorbar(cax,fraction=0.046, pad=0.04, ticks=[0,.25,.5,.75,.8,.85,.90,.95,1])\n",
    "plt.show()\n"
   ]
  },
  {
   "cell_type": "markdown",
   "metadata": {},
   "source": [
    "### 6. Modeling and Evaluation\n",
    "---\n",
    "*(Describe and present the predictive models built on the data and evaluate the performance of the models for solving the problem)*"
   ]
  },
  {
   "cell_type": "markdown",
   "metadata": {},
   "source": [
    "### For each KNN implementation, 1-20 neighbors are tested using 3 distance methods: Euclidean, Minowski, and Manhattan."
   ]
  },
  {
   "cell_type": "markdown",
   "metadata": {},
   "source": [
    "# Using Scikit Learn"
   ]
  },
  {
   "cell_type": "code",
   "execution_count": 10,
   "metadata": {},
   "outputs": [],
   "source": [
    "#X = training data\n",
    "X = np.array(df.drop(['Class'],1))\n",
    "#y = testing data\n",
    "y = np.array(df['Class'])"
   ]
  },
  {
   "cell_type": "code",
   "execution_count": 11,
   "metadata": {},
   "outputs": [],
   "source": [
    "#split data set\n",
    "X_train, X_test, y_train, y_test = cross_validation.train_test_split(X,y,test_size = 0.4)"
   ]
  },
  {
   "cell_type": "markdown",
   "metadata": {},
   "source": [
    "### KNN Function Utilizing Minowski Distance"
   ]
  },
  {
   "cell_type": "code",
   "execution_count": 12,
   "metadata": {},
   "outputs": [
    {
     "name": "stdout",
     "output_type": "stream",
     "text": [
      "The maximum calculated accuracy is 0.9671532846715328 .\n"
     ]
    }
   ],
   "source": [
    "#Run KNN Classifier using Minowski distance from 1-20 neighbors\n",
    "k_range = range(1,21)\n",
    "scores_a = []\n",
    "for k in k_range:\n",
    "    # set classifier and # of neighbors\n",
    "    # default distance method is Minowski\n",
    "    clf = neighbors.KNeighborsClassifier(n_neighbors = k)\n",
    "    #fit data with classifier\n",
    "    clf.fit(X_train, y_train)\n",
    "    #check and append accuracy score\n",
    "    scores_a.append(clf.score(X_test, y_test))\n",
    "print(\"The maximum calculated accuracy is\",max(scores_a),\".\" )"
   ]
  },
  {
   "cell_type": "markdown",
   "metadata": {},
   "source": [
    "### KNN Function Utilizing Manhattan Distance"
   ]
  },
  {
   "cell_type": "code",
   "execution_count": 13,
   "metadata": {},
   "outputs": [
    {
     "name": "stdout",
     "output_type": "stream",
     "text": [
      "The maximum calculated accuracy is 0.9781021897810219 .\n"
     ]
    }
   ],
   "source": [
    "from sklearn.metrics import accuracy_score\n",
    "from sklearn.neighbors import KNeighborsClassifier\n",
    "k_range = range(1,21)\n",
    "scores_b = []\n",
    "for k in k_range:\n",
    "    # set classifier and # of neighbors\n",
    "    # set distance method is Manhattan (p = 1)\n",
    "    clf = KNeighborsClassifier(n_neighbors = k, p = 1)\n",
    "    #fit data with classifier\n",
    "    clf.fit(X_train, y_train)\n",
    "    #check and append accuracy score\n",
    "    scores_b.append(clf.score(X_test, y_test))\n",
    "print(\"The maximum calculated accuracy is\",max(scores_b),\".\" )"
   ]
  },
  {
   "cell_type": "markdown",
   "metadata": {},
   "source": [
    "### KNN Function Utilizing Euclidean Distance"
   ]
  },
  {
   "cell_type": "code",
   "execution_count": 14,
   "metadata": {},
   "outputs": [
    {
     "name": "stdout",
     "output_type": "stream",
     "text": [
      "The maximum calculated accuracy is 0.9671532846715328 .\n"
     ]
    }
   ],
   "source": [
    "from sklearn.metrics import accuracy_score\n",
    "from sklearn.neighbors import KNeighborsClassifier\n",
    "k_range = range(1,21)\n",
    "scores_c = []\n",
    "for k in k_range:\n",
    "    # set classifier and # of neighbors\n",
    "    # set distance method is Euclidean (p = 2)\n",
    "    clf = KNeighborsClassifier(n_neighbors = k, p = 2)\n",
    "    clf.fit(X_train, y_train)\n",
    "    scores_c.append(clf.score(X_test, y_test))\n",
    "print(\"The maximum calculated accuracy is\",max(scores_c),\".\" )"
   ]
  },
  {
   "cell_type": "markdown",
   "metadata": {},
   "source": [
    "### Plot all KNN results using various distance methods and neighbor counts"
   ]
  },
  {
   "cell_type": "code",
   "execution_count": 15,
   "metadata": {},
   "outputs": [
    {
     "data": {
      "image/png": "[encoded data removed]",
      "text/plain": [
       "<Figure size 864x576 with 1 Axes>"
      ]
     },
     "metadata": {},
     "output_type": "display_data"
    }
   ],
   "source": [
    "#plot accuracies of each KNN distance method\n",
    "\n",
    "#configure plot\n",
    "fig1 = plt.figure(figsize=(12, 8))\n",
    "axes = fig1.add_subplot(111)\n",
    "\n",
    "axes.plot(k_range, scores_a, '*', label = \"Minkowski Method\") # Minkowski Method\n",
    "axes.plot(k_range, scores_b, ':', label = \"Manhattan Method\") # Manhattan Method\n",
    "axes.plot(k_range, scores_c, '--', label = \"Euclidean Method\")# Euclidean Method\n",
    "\n",
    "axes.legend(loc='upper right')\n",
    "axes.grid(True, which='major', axis='x' )\n",
    "axes.grid(True, which='major', axis='y' )\n",
    "axes.set_ylabel(\"Accuracy\", fontsize=12)\n",
    "axes.set_xlabel(\"k events in interval\", fontsize=12)\n",
    "axes.set_title(\"Accuracies of Different K Values and Different Distance Methods\", fontsize=18)\n",
    "\n",
    "plt.show()"
   ]
  },
  {
   "cell_type": "markdown",
   "metadata": {},
   "source": [
    "# Using KNN Made From Scratch"
   ]
  },
  {
   "cell_type": "markdown",
   "metadata": {},
   "source": [
    "### KNN Utilizing Euclidean Distance"
   ]
  },
  {
   "cell_type": "code",
   "execution_count": 16,
   "metadata": {},
   "outputs": [],
   "source": [
    "#define KNN classifier using Euclidean distances\n",
    "def k_nearest_neighbors_euclidean(predict,data, k):\n",
    "    #hold distance measurements\n",
    "    distances = []\n",
    "    #iterate through groups in predict and calculate distances\n",
    "    for group in predict:\n",
    "        for features in predict[group]:\n",
    "            euclidean_distance = np.linalg.norm(np.array(features) - np.array(data))\n",
    "            distances.append([euclidean_distance, group])\n",
    "    #iterate through the votes to find the most common ones        \n",
    "    votes =  [i[1] for i in sorted(distances)[:k]]\n",
    "    vote_result = Counter(votes).most_common(1)[0][0]\n",
    "    #calculate confidence\n",
    "    confidence = Counter(votes).most_common(1)[0][1] / k\n",
    "    return vote_result, confidence"
   ]
  },
  {
   "cell_type": "markdown",
   "metadata": {},
   "source": [
    "### KNN Utilizing Manhattan Distance"
   ]
  },
  {
   "cell_type": "code",
   "execution_count": 17,
   "metadata": {},
   "outputs": [],
   "source": [
    "#import distance library\n",
    "from scipy.spatial import distance\n",
    "\n",
    "#define KNN classifier using Manhattan distances\n",
    "def k_nearest_neighbors_manhattan(predict,data, k): \n",
    "    #hold distance measurements    \n",
    "    distances = []\n",
    "    #iterate through groups in predict and calculate distances\n",
    "    for group in predict:\n",
    "        for features in predict[group]:\n",
    "            calculated_distance = distance.cityblock(features, data)\n",
    "            distances.append([calculated_distance, group])\n",
    "    #iterate through the votes to find the most common ones                \n",
    "    votes =  [i[1] for i in sorted(distances)[:k]]\n",
    "    vote_result = Counter(votes).most_common(1)[0][0]\n",
    "    #calculate confidence\n",
    "    confidence = Counter(votes).most_common(1)[0][1] / k\n",
    "    return vote_result, confidence"
   ]
  },
  {
   "cell_type": "markdown",
   "metadata": {},
   "source": [
    "### KNN Utilizing Minkowski Distance"
   ]
  },
  {
   "cell_type": "code",
   "execution_count": 18,
   "metadata": {},
   "outputs": [],
   "source": [
    "#import distance library\n",
    "from scipy.spatial import distance\n",
    "\n",
    "#define KNN classifier using Euclidean distances\n",
    "def k_nearest_neighbors_minkowski(predict,data, k):   \n",
    "    #hold distance measurements\n",
    "    distances = []\n",
    "    #iterate through groups in predict and calculate distances\n",
    "    for group in predict:\n",
    "        for features in predict[group]:\n",
    "            calculated_distance = distance.minkowski(features, data)\n",
    "            distances.append([calculated_distance, group])\n",
    "    #iterate through the votes to find the most common ones                \n",
    "    votes =  [i[1] for i in sorted(distances)[:k]]\n",
    "    vote_result = Counter(votes).most_common(1)[0][0]\n",
    "    #calculate confidence\n",
    "    confidence = Counter(votes).most_common(1)[0][1] / k\n",
    "    return vote_result, confidence"
   ]
  },
  {
   "cell_type": "code",
   "execution_count": 19,
   "metadata": {},
   "outputs": [],
   "source": [
    "#ensure all data is numeric ~ float\n",
    "full_data = df.astype(float).values.tolist()"
   ]
  },
  {
   "cell_type": "code",
   "execution_count": 67,
   "metadata": {},
   "outputs": [],
   "source": [
    "test_size = 0.4\n",
    "\n",
    "#2 in benign, 4 is malignant\n",
    "train_set = {0:[], 1:[]}\n",
    "test_set = {0:[], 1:[]}\n",
    "\n",
    "#first 60% of data\n",
    "train_data = full_data[:-int(test_size*len(full_data))]\n",
    "\n",
    "#last 40% of data\n",
    "test_data = full_data[-int(test_size*len(full_data)):]"
   ]
  },
  {
   "cell_type": "code",
   "execution_count": 68,
   "metadata": {},
   "outputs": [],
   "source": [
    "#populate above dictionaries\n",
    "for i in train_data:\n",
    "    train_set[i[-1]].append(i[:-1])\n",
    "    \n",
    "for i in test_data:\n",
    "    test_set[i[-1]].append(i[:-1])    "
   ]
  },
  {
   "cell_type": "code",
   "execution_count": 70,
   "metadata": {},
   "outputs": [],
   "source": [
    "from operator import itemgetter\n",
    "keys = list(map(itemgetter(9),train_data))\n",
    "keys_final = list(map(int,keys))"
   ]
  },
  {
   "cell_type": "code",
   "execution_count": 71,
   "metadata": {},
   "outputs": [],
   "source": [
    "y_train = pd.Series(keys_final)"
   ]
  },
  {
   "cell_type": "markdown",
   "metadata": {},
   "source": [
    "### KNN Utilizing Euclidean"
   ]
  },
  {
   "cell_type": "code",
   "execution_count": 72,
   "metadata": {},
   "outputs": [
    {
     "name": "stdout",
     "output_type": "stream",
     "text": [
      "The maximum calculated accuracy is 0.9877289377289378 .\n"
     ]
    }
   ],
   "source": [
    "#run the KNN classifier using Euclidean distance for 1-20 neigbhors\n",
    "correct = 0\n",
    "total = 0\n",
    "k_range = range(1,21)\n",
    "scores1 = []\n",
    "for k in k_range:\n",
    "    for group in test_set:\n",
    "        for data in test_set[group]:\n",
    "            vote, confidence = k_nearest_neighbors_euclidean(train_set, data, k)\n",
    "            if group == vote:\n",
    "                correct += 1\n",
    "            total +=1\n",
    "    scores1.append(correct/total)\n",
    "print(\"The maximum calculated accuracy is\",max(scores1),\".\" )"
   ]
  },
  {
   "cell_type": "markdown",
   "metadata": {},
   "source": [
    "### KNN Utilizing Manhattan Distance"
   ]
  },
  {
   "cell_type": "code",
   "execution_count": 25,
   "metadata": {},
   "outputs": [
    {
     "name": "stdout",
     "output_type": "stream",
     "text": [
      "The maximum calculated accuracy is 0.9882783882783883 .\n"
     ]
    }
   ],
   "source": [
    "#run the KNN classifier using Manhattan distance for 1-20 neigbhors\n",
    "correct = 0\n",
    "total = 0\n",
    "k_range = range(1,21)\n",
    "scores2 = []\n",
    "for k in k_range:\n",
    "    for group in test_set:\n",
    "        for data in test_set[group]:\n",
    "            vote, confidence = k_nearest_neighbors_manhattan(train_set, data, k)\n",
    "            if group == vote:\n",
    "                correct += 1\n",
    "            total +=1\n",
    "    scores2.append(correct/total)\n",
    "print(\"The maximum calculated accuracy is\",max(scores2),\".\" )"
   ]
  },
  {
   "cell_type": "markdown",
   "metadata": {},
   "source": [
    "### KNN Utilizing Minowski Minkowski"
   ]
  },
  {
   "cell_type": "code",
   "execution_count": 26,
   "metadata": {},
   "outputs": [
    {
     "name": "stdout",
     "output_type": "stream",
     "text": [
      "The maximum calculated accuracy is 0.9877289377289378 .\n"
     ]
    }
   ],
   "source": [
    "#run the KNN classifier using Minkowski distance for 1-20 neigbhors\n",
    "correct = 0\n",
    "total = 0\n",
    "k_range = range(1,21)\n",
    "scores3 = []\n",
    "for k in k_range:\n",
    "    for group in test_set:\n",
    "        for data in test_set[group]:\n",
    "            vote, confidence = k_nearest_neighbors_minkowski(train_set, data, k)\n",
    "            if group == vote:\n",
    "                correct += 1\n",
    "            total +=1\n",
    "    scores3.append(correct/total)\n",
    "print(\"The maximum calculated accuracy is\",max(scores3),\".\" )"
   ]
  },
  {
   "cell_type": "code",
   "execution_count": 27,
   "metadata": {},
   "outputs": [
    {
     "data": {
      "image/png": "[encoded data removed]",
      "text/plain": [
       "<Figure size 864x576 with 1 Axes>"
      ]
     },
     "metadata": {},
     "output_type": "display_data"
    }
   ],
   "source": [
    "#plot accuracies of each KNN distance method\n",
    "\n",
    "#configure plot\n",
    "fig = plt.figure(figsize=(12, 8))\n",
    "axes=fig.add_subplot(111)\n",
    "\n",
    "axes.plot(k_range, scores1, '--', label = \"Euclidean Method\")# Euclidean Method\n",
    "axes.plot(k_range, scores2, ':', label = \"Manhattan Method\") # Manhattan Method\n",
    "axes.plot(k_range, scores3, '*', label = \"Minkowski Method\") # Minkowski Method\n",
    "\n",
    "axes.legend(loc='upper right')\n",
    "axes.grid(True, which='major', axis='x' )\n",
    "axes.grid(True, which='major', axis='y' )\n",
    "axes.set_ylabel(\"Accuracy\", fontsize=12)\n",
    "axes.set_xlabel(\"k events in interval\", fontsize=12)\n",
    "axes.set_title(\"Accuracies of Different K Values and Different Distance Methods\", fontsize=18)\n",
    "\n",
    "plt.show()"
   ]
  },
  {
   "cell_type": "code",
   "execution_count": 44,
   "metadata": {},
   "outputs": [
    {
     "name": "stdout",
     "output_type": "stream",
     "text": [
      "The maximum calculated accuracy is 0.989010989010989 .\n"
     ]
    }
   ],
   "source": [
    "#run the KNN classifier using Minkowski distance for 1-20 neigbhors\n",
    "correct = 0\n",
    "total = 0\n",
    "\n",
    "scores3 = []\n",
    "test = []\n",
    "for group in test_set:\n",
    "    for data in test_set[group]:\n",
    "        vote, confidence = k_nearest_neighbors_minkowski(train_set, data, 5)\n",
    "        test.append(vote)\n",
    "        if group == vote:\n",
    "            correct += 1\n",
    "        total +=1\n",
    "scores3.append(correct/total)\n",
    "print(\"The maximum calculated accuracy is\",max(scores3),\".\" )"
   ]
  },
  {
   "cell_type": "code",
   "execution_count": 45,
   "metadata": {},
   "outputs": [],
   "source": [
    "y_pred_series = pd.Series(test)"
   ]
  },
  {
   "cell_type": "code",
   "execution_count": 46,
   "metadata": {},
   "outputs": [
    {
     "name": "stdout",
     "output_type": "stream",
     "text": [
      "recall for class 'benign' = 0.7972972972972973\n",
      "precision for class 'benign' = 0.5700483091787439\n",
      "F1 Score for class 'benign' = 0.6647887323943662\n"
     ]
    }
   ],
   "source": [
    "tp = sum((y_train == 0) & (y_pred_series == 0))\n",
    "\n",
    "fn = sum((y_train == 0) & (y_pred_series != 0))\n",
    "\n",
    "fp= sum((y_train != 0) & (y_pred_series == 0))\n",
    "\n",
    "tn = sum((y_train != 0) & (y_pred_series != 0))\n",
    "\n",
    "print(\"recall for class 'benign' = \" + str(tp / (tp + fn)))\n",
    "print(\"precision for class 'benign' = \" + str(tp / (tp + fp)))\n",
    "print(\"F1 Score for class 'benign' = \" + str(2 * tp /(2 * tp + fp + fn))) "
   ]
  },
  {
   "cell_type": "code",
   "execution_count": 47,
   "metadata": {},
   "outputs": [
    {
     "name": "stdout",
     "output_type": "stream",
     "text": [
      "recall for class 'malignant' = 0.288\n",
      "precision for class 'malignant' = 0.5454545454545454\n",
      "F1 Score for class 'malignant' = 0.3769633507853403\n"
     ]
    }
   ],
   "source": [
    "tp = sum((y_train == 1) & (y_pred_series == 1))\n",
    "\n",
    "fn = sum((y_train == 1) & (y_pred_series != 1))\n",
    "\n",
    "fp= sum((y_train != 1) & (y_pred_series == 1))\n",
    "\n",
    "tn = sum((y_test != 1) & (y_pred_series != 1))\n",
    "\n",
    "print(\"recall for class 'malignant' = \" + str(tp / (tp + fn)))\n",
    "print(\"precision for class 'malignant' = \" + str(tp / (tp + fp)))\n",
    "print(\"F1 Score for class 'malignant' = \" + str(2 * tp /(2 * tp + fp + fn))) "
   ]
  },
  {
   "cell_type": "code",
   "execution_count": 53,
   "metadata": {},
   "outputs": [
    {
     "name": "stdout",
     "output_type": "stream",
     "text": [
      "The maximum calculated accuracy is 0.989010989010989 .\n"
     ]
    }
   ],
   "source": [
    "#run the KNN classifier using Minkowski distance for 1-20 neigbhors\n",
    "correct = 0\n",
    "total = 0\n",
    "\n",
    "scores3 = []\n",
    "test = []\n",
    "for group in test_set:\n",
    "    for data in test_set[group]:\n",
    "        vote, confidence = k_nearest_neighbors_manhattan(train_set, data, 5)\n",
    "        test.append(vote)\n",
    "        if group == vote:\n",
    "            correct += 1\n",
    "        total +=1\n",
    "scores3.append(correct/total)\n",
    "print(\"The maximum calculated accuracy is\",max(scores3),\".\" )"
   ]
  },
  {
   "cell_type": "code",
   "execution_count": 54,
   "metadata": {},
   "outputs": [],
   "source": [
    "y_pred_series = pd.Series(test)"
   ]
  },
  {
   "cell_type": "code",
   "execution_count": 55,
   "metadata": {},
   "outputs": [
    {
     "name": "stdout",
     "output_type": "stream",
     "text": [
      "recall for class 'benign' = 0.7972972972972973\n",
      "precision for class 'benign' = 0.5645933014354066\n",
      "F1 Score for class 'benign' = 0.6610644257703081\n"
     ]
    }
   ],
   "source": [
    "tp = sum((y_train == 0) & (y_pred_series == 0))\n",
    "\n",
    "fn = sum((y_train == 0) & (y_pred_series != 0))\n",
    "\n",
    "fp= sum((y_train != 0) & (y_pred_series == 0))\n",
    "\n",
    "tn = sum((y_train != 0) & (y_pred_series != 0))\n",
    "\n",
    "print(\"recall for class 'benign' = \" + str(tp / (tp + fn)))\n",
    "print(\"precision for class 'benign' = \" + str(tp / (tp + fp)))\n",
    "print(\"F1 Score for class 'benign' = \" + str(2 * tp /(2 * tp + fp + fn))) "
   ]
  },
  {
   "cell_type": "code",
   "execution_count": 56,
   "metadata": {},
   "outputs": [
    {
     "name": "stdout",
     "output_type": "stream",
     "text": [
      "recall for class 'malignant' = 0.272\n",
      "precision for class 'malignant' = 0.53125\n",
      "F1 Score for class 'malignant' = 0.35978835978835977\n"
     ]
    }
   ],
   "source": [
    "tp = sum((y_train == 1) & (y_pred_series == 1))\n",
    "\n",
    "fn = sum((y_train == 1) & (y_pred_series != 1))\n",
    "\n",
    "fp= sum((y_train != 1) & (y_pred_series == 1))\n",
    "\n",
    "tn = sum((y_test != 1) & (y_pred_series != 1))\n",
    "\n",
    "print(\"recall for class 'malignant' = \" + str(tp / (tp + fn)))\n",
    "print(\"precision for class 'malignant' = \" + str(tp / (tp + fp)))\n",
    "print(\"F1 Score for class 'malignant' = \" + str(2 * tp /(2 * tp + fp + fn))) "
   ]
  },
  {
   "cell_type": "code",
   "execution_count": 61,
   "metadata": {},
   "outputs": [
    {
     "name": "stdout",
     "output_type": "stream",
     "text": [
      "The maximum calculated accuracy is 0.989010989010989 .\n"
     ]
    }
   ],
   "source": [
    "#run the KNN classifier using Minkowski distance for 1-20 neigbhors\n",
    "correct = 0\n",
    "total = 0\n",
    "\n",
    "scores3 = []\n",
    "test = []\n",
    "for group in test_set:\n",
    "    for data in test_set[group]:\n",
    "        vote, confidence = k_nearest_neighbors_euclidean(train_set, data, 5)\n",
    "        test.append(vote)\n",
    "        if group == vote:\n",
    "            correct += 1\n",
    "        total +=1\n",
    "scores3.append(correct/total)\n",
    "print(\"The maximum calculated accuracy is\",max(scores3),\".\" )"
   ]
  },
  {
   "cell_type": "code",
   "execution_count": 62,
   "metadata": {},
   "outputs": [],
   "source": [
    "y_pred_series = pd.Series(test)"
   ]
  },
  {
   "cell_type": "code",
   "execution_count": 63,
   "metadata": {},
   "outputs": [
    {
     "name": "stdout",
     "output_type": "stream",
     "text": [
      "recall for class 'benign' = 0.7972972972972973\n",
      "precision for class 'benign' = 0.5700483091787439\n",
      "F1 Score for class 'benign' = 0.6647887323943662\n"
     ]
    }
   ],
   "source": [
    "tp = sum((y_train == 0) & (y_pred_series == 0))\n",
    "\n",
    "fn = sum((y_train == 0) & (y_pred_series != 0))\n",
    "\n",
    "fp= sum((y_train != 0) & (y_pred_series == 0))\n",
    "\n",
    "tn = sum((y_train != 0) & (y_pred_series != 0))\n",
    "\n",
    "print(\"recall for class 'benign' = \" + str(tp / (tp + fn)))\n",
    "print(\"precision for class 'benign' = \" + str(tp / (tp + fp)))\n",
    "print(\"F1 Score for class 'benign' = \" + str(2 * tp /(2 * tp + fp + fn))) "
   ]
  },
  {
   "cell_type": "code",
   "execution_count": 64,
   "metadata": {},
   "outputs": [
    {
     "name": "stdout",
     "output_type": "stream",
     "text": [
      "recall for class 'malignant' = 0.288\n",
      "precision for class 'malignant' = 0.5454545454545454\n",
      "F1 Score for class 'malignant' = 0.3769633507853403\n"
     ]
    }
   ],
   "source": [
    "tp = sum((y_train == 1) & (y_pred_series == 1))\n",
    "\n",
    "fn = sum((y_train == 1) & (y_pred_series != 1))\n",
    "\n",
    "fp= sum((y_train != 1) & (y_pred_series == 1))\n",
    "\n",
    "tn = sum((y_test != 1) & (y_pred_series != 1))\n",
    "\n",
    "print(\"recall for class 'malignant' = \" + str(tp / (tp + fn)))\n",
    "print(\"precision for class 'malignant' = \" + str(tp / (tp + fp)))\n",
    "print(\"F1 Score for class 'malignant' = \" + str(2 * tp /(2 * tp + fp + fn))) "
   ]
  },
  {
   "cell_type": "markdown",
   "metadata": {},
   "source": [
    "### 7. Conclusion\n",
    "---\n",
    "*(Briefly describe what you have done and what you discovered. Discuss any shortcomings of the process and results. Propose future work. **Finally, discuss the lessons learned from doing the project**.)*"
   ]
  },
  {
   "cell_type": "markdown",
   "metadata": {},
   "source": [
    "### - After cleaning the data, a correlation matrix was created on top of the processed data. \n",
    "\n",
    "### - Uniformity of Cell Shape and Uniformity of Cell Size are highly correlated. This makes sense because the larger/smaller the shape of the cell, the larger/smaller the size of the cell.\n",
    "\n",
    "### - In essence, we were able to find that the KNN classifier made from scratch performed better than the KNN classifier made by using Scikit Learn by a small margin. \n",
    "\n",
    "### - For both KNN implementations, Euclidean and Minowski distance methods shared the same accuracy results.\n",
    "\n",
    "### - Our initial hypothesis was that the implementation utilizing the Scikit Learn library would be more accurate, however this was not the case, and therefore our initial hypothesis is rejected. \n"
   ]
  },
  {
   "cell_type": "markdown",
   "metadata": {},
   "source": [
    "### 8. References"
   ]
  },
  {
   "cell_type": "markdown",
   "metadata": {},
   "source": [
    "- http://scikit-learn.org/stable/modules/neighbors.html\n",
    "- https://www.ritchieng.com/machine-learning-k-nearest-neighbors-knn/\n",
    "- https://www.pythonprogramming.net/data-analysis-tutorials/"
   ]
  },
  {
   "cell_type": "markdown",
   "metadata": {},
   "source": [
    "---\n",
    "(*Use the following requirements for writing your reports. DO NOT DELETE THE CELLS BELLOW*)"
   ]
  },
  {
   "cell_type": "markdown",
   "metadata": {},
   "source": [
    "# Project Requirements\n",
    "\n",
    "This final project examines the level of knowledge the students have learned from the course. The following course outcomes will be checked against the content of the report:\n",
    "\n",
    "Upon successful completion of this course, a student will be able to:\n",
    "* Describe the key Python tools and libraries that related to a typical data analytics project. \n",
    "* Identify data science libraries, frameworks, modules, and toolkits in Python that efficiently implement the most common data science algorithms and techniques.\n",
    "* Apply latest Python techniques in data acquisition, transformation and predictive analytics for data science projects.\n",
    "* Discuss the underlying principles and main characteristics of the most common methods and techniques for data analytics. \n",
    "* Build data analytic and predictive models for real world data sets using existing Python libraries.\n",
    "\n",
    "** Marking will be foucsed on both presentation and content.** \n",
    "\n",
    "## Written Presentation Requirements\n",
    "The report will be judged on the basis of visual appearance, grammatical correctness, and quality of writing, as well as its contents. Please make sure that the text of your report is well-structured, using paragraphs, full sentences, and other features of well-written presentation.\n",
    "\n",
    "## Technical Content:\n",
    "* Is the problem well defined and described thoroughly?\n",
    "* Is the size and complexity of the data set used in this project comparable to that of the example data sets used in the lectures and assignments?\n",
    "* Did the report describe the charactriatics of the data?\n",
    "* Did the report describe the goals of the data analysis?\n",
    "* Did the analysis conduct exploratory analyses on the data?\n",
    "* Did the analysis build models of the data and evaluate the performance of the models?\n",
    "* Overall, what is the rating of this project?"
   ]
  },
  {
   "cell_type": "code",
   "execution_count": null,
   "metadata": {},
   "outputs": [],
   "source": []
  }
 ],
 "metadata": {
  "kernelspec": {
   "display_name": "Python 3",
   "language": "python",
   "name": "python3"
  },
  "language_info": {
   "codemirror_mode": {
    "name": "ipython",
    "version": 3
   },
   "file_extension": ".py",
   "mimetype": "text/x-python",
   "name": "python",
   "nbconvert_exporter": "python",
   "pygments_lexer": "ipython3",
   "version": "3.6.5"
  }
 },
 "nbformat": 4,
 "nbformat_minor": 2
}
