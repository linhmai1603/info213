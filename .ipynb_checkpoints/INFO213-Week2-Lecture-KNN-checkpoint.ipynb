{
 "cells": [
  {
   "cell_type": "markdown",
   "metadata": {},
   "source": [
    "# INFO 213: Data Science Programming 2\n",
    "___\n",
    "\n",
    "### Week 2: KNN and Linear Algebra\n",
    "___\n",
    "\n",
    "### 9:30-10:50am, Mon., July 2, 2018\n",
    "---\n",
    "\n",
    "**Question:**\n",
    "- What is the idea behind the nearest neighbor classification?\n",
    "- What linear algebra concepts and operations I need to know for building effective models?\n",
    "\n",
    "**Objectives:**\n",
    "- Describe neighbors in terms of notions of distances\n",
    "- Explain the issues with dimensionality\n",
    "- Define and compute distances for multi-dimensional data\n",
    "- Implement basic vector and matrix operations"
   ]
  },
  {
   "cell_type": "markdown",
   "metadata": {},
   "source": [
    "## The Model\n"
   ]
  },
  {
   "cell_type": "markdown",
   "metadata": {},
   "source": [
    "Nearest neighbors is one of the simplest predictive models there is. It makes no mathematical\n",
    "assumptions, and it doesn’t require any sort of heavy machinery. The only\n",
    "things it requires are:\n",
    "- Some notion of distance\n",
    "- An assumption that points that are close to one another are similar\n",
    "\n",
    "In general, data are represented as vectors. For a given data $x$,  we find the nearest $k$ neighbors to predict $x$'s label. \n",
    "\n",
    "Let’s say we’ve picked a number $k$ like 3 or 5. Then when we want to classify some\n",
    "new data point, we find the $k$ nearest labeled points and let them vote on the new\n",
    "output.\n",
    "\n",
    "![](knn.png)\n",
    "\n",
    "To do this, we’ll need a function that counts votes. One possibility is:"
   ]
  },
  {
   "cell_type": "markdown",
   "metadata": {},
   "source": [
    "```\n",
    "def raw_majority_vote(labels):\n",
    "    votes = Counter(labels)\n",
    "    winner, _ = votes.most_common(1)[0]\n",
    "    return winner\n",
    "```"
   ]
  },
  {
   "cell_type": "code",
   "execution_count": 19,
   "metadata": {},
   "outputs": [],
   "source": [
    "def raw_majority_vote(labels):\n",
    "    votes = Counter(labels)\n",
    "    winner, _ = votes.most_common(1)[0]\n",
    "    return winner"
   ]
  },
  {
   "cell_type": "markdown",
   "metadata": {},
   "source": [
    "## Linear Algebra\n",
    "Linear algebra is the branch of mathematics that deals with vector spaces. It underpins a large number\n",
    "of data science concepts and techniques,\n",
    "What we learn here we’ll use heavily throughout the rest of the course."
   ]
  },
  {
   "cell_type": "markdown",
   "metadata": {},
   "source": [
    "### Vectors\n",
    "Vectors are points in some finite-dimensional space.\n",
    "\n",
    "The simplest approach is to represent vectors as lists of numbers. A list\n",
    "of three numbers corresponds to a vector in three-dimensional space, and vice versa:"
   ]
  },
  {
   "cell_type": "markdown",
   "metadata": {},
   "source": [
    "```\n",
    "height_weight_age = [70, # inches,\n",
    "                    170, # pounds,\n",
    "                    40 ] # years\n",
    "```"
   ]
  },
  {
   "cell_type": "code",
   "execution_count": 20,
   "metadata": {},
   "outputs": [],
   "source": [
    "height_weight_age = [70, # inches,\n",
    "                    170, # pounds,\n",
    "                    40 ] # years"
   ]
  },
  {
   "cell_type": "markdown",
   "metadata": {},
   "source": [
    "```\n",
    "height_weight_age```"
   ]
  },
  {
   "cell_type": "code",
   "execution_count": 3,
   "metadata": {},
   "outputs": [
    {
     "data": {
      "text/plain": [
       "[70, 170, 40]"
      ]
     },
     "execution_count": 3,
     "metadata": {},
     "output_type": "execute_result"
    }
   ],
   "source": [
    "height_weight_age"
   ]
  },
  {
   "cell_type": "markdown",
   "metadata": {},
   "source": [
    "**Vector addition**: adding the vectors `[1, 2]` and `[2, 1]` results in `[1 + 2, 2 + 1]` or `[3,3]`:\n",
    "\n",
    "![](vector-addition.png)\n",
    "\n",
    "Similary, to substract two vectors we just subtract corresponding elements.\n",
    "\n",
    "We’ll also need to be able to multiply a vector by a scalar, which we do simply by multiplying\n",
    "each element of the vector by that number.\n",
    "\n",
    "**dot product**: The dot product of two vectors is the sum of\n",
    "their componentwise products:\n",
    "\n",
    "$a\\cdot b = a_{1}\\cdot b_{1} + a_{2}\\cdot b_{2} + ... + a_{n}\\cdot b_{n}$\n",
    "\n",
    "Visualization in geometric representations of vectors:\n",
    "\n",
    "![](dot-product-1.png)\n",
    "![](dot-product-projection.png)"
   ]
  },
  {
   "cell_type": "markdown",
   "metadata": {},
   "source": [
    "### Vector Distance (in Euclidean Geometry)\n",
    "We now have all the pieces we need to compute the distance between two vectors,\n",
    "defined as:\n",
    "$\\sqrt{(a_{1} - b_{1})^{2} + (a_{2} - b_{2})^{2} + ... + (a_{n} - b_{n})^2}$\n",
    "\n",
    "Visualization in terms of Pythagorean Law in trigonometry:  square of the hypotenuse (the side opposite the right angle) is equal to the sum of the squares of the other two sides. \n",
    "\n",
    "![](vector-distance.jpg)"
   ]
  },
  {
   "cell_type": "markdown",
   "metadata": {},
   "source": [
    "### Exercise\n",
    "Implement the various vector operations using randomly genreated vectors:"
   ]
  },
  {
   "cell_type": "markdown",
   "metadata": {},
   "source": [
    "```\n",
    "import numpy as np\n",
    "v1 = np.random.rand(1, 20)```"
   ]
  },
  {
   "cell_type": "code",
   "execution_count": 4,
   "metadata": {},
   "outputs": [],
   "source": [
    "import numpy as np\n",
    "v1 = np.random.rand(1, 20)"
   ]
  },
  {
   "cell_type": "markdown",
   "metadata": {},
   "source": [
    "```\n",
    "v1```"
   ]
  },
  {
   "cell_type": "code",
   "execution_count": 5,
   "metadata": {},
   "outputs": [
    {
     "data": {
      "text/plain": [
       "array([[0.576636  , 0.54038188, 0.09723127, 0.06574128, 0.00840026,\n",
       "        0.06021117, 0.5040489 , 0.94636657, 0.32482977, 0.52141438,\n",
       "        0.0753368 , 0.09760533, 0.60022269, 0.07798846, 0.13997776,\n",
       "        0.83387894, 0.9522816 , 0.24347694, 0.37822125, 0.90460608]])"
      ]
     },
     "execution_count": 5,
     "metadata": {},
     "output_type": "execute_result"
    }
   ],
   "source": [
    "v1"
   ]
  },
  {
   "cell_type": "markdown",
   "metadata": {},
   "source": [
    "```\n",
    "v2 = np.random.randint(2, 10, 20)```"
   ]
  },
  {
   "cell_type": "code",
   "execution_count": 6,
   "metadata": {},
   "outputs": [],
   "source": [
    "v2 = np.random.randint(2, 10, 20)"
   ]
  },
  {
   "cell_type": "markdown",
   "metadata": {},
   "source": [
    "```\n",
    "v2```"
   ]
  },
  {
   "cell_type": "code",
   "execution_count": 7,
   "metadata": {},
   "outputs": [
    {
     "data": {
      "text/plain": [
       "array([2, 8, 4, 8, 9, 3, 2, 2, 8, 9, 2, 3, 7, 6, 8, 8, 6, 8, 7, 5])"
      ]
     },
     "execution_count": 7,
     "metadata": {},
     "output_type": "execute_result"
    }
   ],
   "source": [
    "v2"
   ]
  },
  {
   "cell_type": "markdown",
   "metadata": {},
   "source": [
    "```\n",
    "np.dot(v1, v2)```"
   ]
  },
  {
   "cell_type": "code",
   "execution_count": 8,
   "metadata": {},
   "outputs": [
    {
     "data": {
      "text/plain": [
       "array([44.57553387])"
      ]
     },
     "execution_count": 8,
     "metadata": {},
     "output_type": "execute_result"
    }
   ],
   "source": [
    "np.dot(v1, v2)"
   ]
  },
  {
   "cell_type": "markdown",
   "metadata": {},
   "source": [
    "## Matrices\n",
    "A matrix is a two-dimensional collection of numbers. In Mathematics, if A is a matrix, then `A[i][j]` is the element in the ith row and the jth column. However, in implementation, indices always start from 0, `A[i][j]` is the element in the i+1th row and j+1th column.\n",
    "\n",
    "If a matrix has n rows and k columns, we will refer to it as a n × k matrix. We can\n",
    "(and sometimes will) think of each row of a n × k matrix as a vector of length k, and\n",
    "each column as a vector of length n."
   ]
  },
  {
   "cell_type": "markdown",
   "metadata": {},
   "source": [
    "```\n",
    "m = np.random.randint(1, 5, (2,3))\n",
    "m```"
   ]
  },
  {
   "cell_type": "code",
   "execution_count": null,
   "metadata": {},
   "outputs": [],
   "source": []
  },
  {
   "cell_type": "markdown",
   "metadata": {},
   "source": [
    "The shape of a matrix is the number of rows and the number of columns:"
   ]
  },
  {
   "cell_type": "markdown",
   "metadata": {},
   "source": [
    "```\n",
    "m.shape```"
   ]
  },
  {
   "cell_type": "code",
   "execution_count": null,
   "metadata": {},
   "outputs": [],
   "source": []
  },
  {
   "cell_type": "markdown",
   "metadata": {},
   "source": [
    "Identity matrix has 1s on its diagonal and 0s anywhere else:"
   ]
  },
  {
   "cell_type": "markdown",
   "metadata": {},
   "source": [
    "```\n",
    "np.identity(5)```"
   ]
  },
  {
   "cell_type": "code",
   "execution_count": null,
   "metadata": {},
   "outputs": [],
   "source": []
  },
  {
   "cell_type": "markdown",
   "metadata": {},
   "source": [
    "Diagonal elements can be retrieved using numpy function:"
   ]
  },
  {
   "cell_type": "markdown",
   "metadata": {},
   "source": [
    "```\n",
    "a = np.arange(15).reshape(3, 5)\n",
    "a```"
   ]
  },
  {
   "cell_type": "code",
   "execution_count": null,
   "metadata": {},
   "outputs": [],
   "source": []
  },
  {
   "cell_type": "markdown",
   "metadata": {},
   "source": [
    "```\n",
    "np.diagonal(a)```"
   ]
  },
  {
   "cell_type": "code",
   "execution_count": null,
   "metadata": {},
   "outputs": [],
   "source": []
  },
  {
   "cell_type": "markdown",
   "metadata": {},
   "source": [
    "Diagonla matrix has values on its diagonla and os anywhere else."
   ]
  },
  {
   "cell_type": "markdown",
   "metadata": {},
   "source": [
    "```\n",
    "a = np.arange(4)\n",
    "a```"
   ]
  },
  {
   "cell_type": "code",
   "execution_count": null,
   "metadata": {},
   "outputs": [],
   "source": []
  },
  {
   "cell_type": "markdown",
   "metadata": {},
   "source": [
    "```\n",
    "np.diag(a)```"
   ]
  },
  {
   "cell_type": "code",
   "execution_count": null,
   "metadata": {},
   "outputs": [],
   "source": []
  },
  {
   "cell_type": "markdown",
   "metadata": {},
   "source": [
    "### Matrix Multiplication\n",
    "**Elementwise multiplication**: takes two matrices of the same dimensions, and produces another matrix where each element i,j is the product of elements i,j of the original two matrices."
   ]
  },
  {
   "cell_type": "markdown",
   "metadata": {},
   "source": [
    "```\n",
    "a = np.random.randint(1,6, (3, 2))\n",
    "b = np.random.randint(1, 4, (3, 2))\n",
    "a```"
   ]
  },
  {
   "cell_type": "code",
   "execution_count": null,
   "metadata": {},
   "outputs": [],
   "source": []
  },
  {
   "cell_type": "markdown",
   "metadata": {},
   "source": [
    "```\n",
    "b```"
   ]
  },
  {
   "cell_type": "code",
   "execution_count": null,
   "metadata": {},
   "outputs": [],
   "source": []
  },
  {
   "cell_type": "markdown",
   "metadata": {},
   "source": [
    "```\n",
    "a*b```"
   ]
  },
  {
   "cell_type": "code",
   "execution_count": null,
   "metadata": {},
   "outputs": [],
   "source": []
  },
  {
   "cell_type": "markdown",
   "metadata": {},
   "source": [
    "**Matrix multiplication**:  if A is an n × m matrix and B is an m × p matrix, their matrix product C = AB is an n × p matrix, in which `C[i][j]` is the dot product of `A[i, ]` the ith row of A and `B[, j]` the jth column of B. Therefor, the number of rows in A  must be equal to the number of column in B. \n",
    "\n",
    "![](matrix-multiply-order.gif)\n",
    "![](matrix-multiply.svg)"
   ]
  },
  {
   "cell_type": "markdown",
   "metadata": {},
   "source": [
    "```\n",
    "a = np.arange(1, 7).reshape(2, 3)\n",
    "a```"
   ]
  },
  {
   "cell_type": "code",
   "execution_count": null,
   "metadata": {},
   "outputs": [],
   "source": []
  },
  {
   "cell_type": "markdown",
   "metadata": {},
   "source": [
    "```\n",
    "b = np.arange(7, 13).reshape(3, 2)\n",
    "b```"
   ]
  },
  {
   "cell_type": "code",
   "execution_count": null,
   "metadata": {},
   "outputs": [],
   "source": []
  },
  {
   "cell_type": "markdown",
   "metadata": {},
   "source": [
    "```\n",
    "np.matmul(a, b)```"
   ]
  },
  {
   "cell_type": "code",
   "execution_count": null,
   "metadata": {},
   "outputs": [],
   "source": []
  },
  {
   "cell_type": "markdown",
   "metadata": {},
   "source": [
    "## KNN\n",
    "Let us implement the KNN algorithm using a set of example data about favorite programming languages for data scientists in different cities."
   ]
  },
  {
   "cell_type": "markdown",
   "metadata": {},
   "source": [
    "```\n",
    "cities = [(-86.75,33.5666666666667,'Python'),(-88.25,30.6833333333333,'Python'),(-112.016666666667,33.4333333333333,'Java'),(-110.933333333333,32.1166666666667,'Java'),(-92.2333333333333,34.7333333333333,'R'),(-121.95,37.7,'R'),(-118.15,33.8166666666667,'Python'),(-118.233333333333,34.05,'Java'),(-122.316666666667,37.8166666666667,'R'),(-117.6,34.05,'Python'),(-116.533333333333,33.8166666666667,'Python'),(-121.5,38.5166666666667,'R'),(-117.166666666667,32.7333333333333,'R'),(-122.383333333333,37.6166666666667,'R'),(-121.933333333333,37.3666666666667,'R'),(-122.016666666667,36.9833333333333,'Python'),(-104.716666666667,38.8166666666667,'Python'),(-104.866666666667,39.75,'Python'),(-72.65,41.7333333333333,'R'),(-75.6,39.6666666666667,'Python'),(-77.0333333333333,38.85,'Python'),(-80.2666666666667,25.8,'Java'),(-81.3833333333333,28.55,'Java'),(-82.5333333333333,27.9666666666667,'Java'),(-84.4333333333333,33.65,'Python'),(-116.216666666667,43.5666666666667,'Python'),(-87.75,41.7833333333333,'Java'),(-86.2833333333333,39.7333333333333,'Java'),(-93.65,41.5333333333333,'Java'),(-97.4166666666667,37.65,'Java'),(-85.7333333333333,38.1833333333333,'Python'),(-90.25,29.9833333333333,'Java'),(-70.3166666666667,43.65,'R'),(-76.6666666666667,39.1833333333333,'R'),(-71.0333333333333,42.3666666666667,'R'),(-72.5333333333333,42.2,'R'),(-83.0166666666667,42.4166666666667,'Python'),(-84.6,42.7833333333333,'Python'),(-93.2166666666667,44.8833333333333,'Python'),(-90.0833333333333,32.3166666666667,'Java'),(-94.5833333333333,39.1166666666667,'Java'),(-90.3833333333333,38.75,'Python'),(-108.533333333333,45.8,'Python'),(-95.9,41.3,'Python'),(-115.166666666667,36.0833333333333,'Java'),(-71.4333333333333,42.9333333333333,'R'),(-74.1666666666667,40.7,'R'),(-106.616666666667,35.05,'Python'),(-78.7333333333333,42.9333333333333,'R'),(-73.9666666666667,40.7833333333333,'R'),(-80.9333333333333,35.2166666666667,'Python'),(-78.7833333333333,35.8666666666667,'Python'),(-100.75,46.7666666666667,'Java'),(-84.5166666666667,39.15,'Java'),(-81.85,41.4,'Java'),(-82.8833333333333,40,'Java'),(-97.6,35.4,'Python'),(-122.666666666667,45.5333333333333,'Python'),(-75.25,39.8833333333333,'Python'),(-80.2166666666667,40.5,'Python'),(-71.4333333333333,41.7333333333333,'R'),(-81.1166666666667,33.95,'R'),(-96.7333333333333,43.5666666666667,'Python'),(-90,35.05,'R'),(-86.6833333333333,36.1166666666667,'R'),(-97.7,30.3,'Python'),(-96.85,32.85,'Java'),(-95.35,29.9666666666667,'Java'),(-98.4666666666667,29.5333333333333,'Java'),(-111.966666666667,40.7666666666667,'Python'),(-73.15,44.4666666666667,'R'),(-77.3333333333333,37.5,'Python'),(-122.3,47.5333333333333,'Python'),(-89.3333333333333,43.1333333333333,'R'),(-104.816666666667,41.15,'Java')]\n",
    "cities = [([longitude, latitude], language) for longitude, latitude, language in cities]\n",
    "```"
   ]
  },
  {
   "cell_type": "code",
   "execution_count": 1,
   "metadata": {},
   "outputs": [],
   "source": [
    "cities = [(-86.75,33.5666666666667,'Python'),(-88.25,30.6833333333333,'Python'),(-112.016666666667,33.4333333333333,'Java'),(-110.933333333333,32.1166666666667,'Java'),(-92.2333333333333,34.7333333333333,'R'),(-121.95,37.7,'R'),(-118.15,33.8166666666667,'Python'),(-118.233333333333,34.05,'Java'),(-122.316666666667,37.8166666666667,'R'),(-117.6,34.05,'Python'),(-116.533333333333,33.8166666666667,'Python'),(-121.5,38.5166666666667,'R'),(-117.166666666667,32.7333333333333,'R'),(-122.383333333333,37.6166666666667,'R'),(-121.933333333333,37.3666666666667,'R'),(-122.016666666667,36.9833333333333,'Python'),(-104.716666666667,38.8166666666667,'Python'),(-104.866666666667,39.75,'Python'),(-72.65,41.7333333333333,'R'),(-75.6,39.6666666666667,'Python'),(-77.0333333333333,38.85,'Python'),(-80.2666666666667,25.8,'Java'),(-81.3833333333333,28.55,'Java'),(-82.5333333333333,27.9666666666667,'Java'),(-84.4333333333333,33.65,'Python'),(-116.216666666667,43.5666666666667,'Python'),(-87.75,41.7833333333333,'Java'),(-86.2833333333333,39.7333333333333,'Java'),(-93.65,41.5333333333333,'Java'),(-97.4166666666667,37.65,'Java'),(-85.7333333333333,38.1833333333333,'Python'),(-90.25,29.9833333333333,'Java'),(-70.3166666666667,43.65,'R'),(-76.6666666666667,39.1833333333333,'R'),(-71.0333333333333,42.3666666666667,'R'),(-72.5333333333333,42.2,'R'),(-83.0166666666667,42.4166666666667,'Python'),(-84.6,42.7833333333333,'Python'),(-93.2166666666667,44.8833333333333,'Python'),(-90.0833333333333,32.3166666666667,'Java'),(-94.5833333333333,39.1166666666667,'Java'),(-90.3833333333333,38.75,'Python'),(-108.533333333333,45.8,'Python'),(-95.9,41.3,'Python'),(-115.166666666667,36.0833333333333,'Java'),(-71.4333333333333,42.9333333333333,'R'),(-74.1666666666667,40.7,'R'),(-106.616666666667,35.05,'Python'),(-78.7333333333333,42.9333333333333,'R'),(-73.9666666666667,40.7833333333333,'R'),(-80.9333333333333,35.2166666666667,'Python'),(-78.7833333333333,35.8666666666667,'Python'),(-100.75,46.7666666666667,'Java'),(-84.5166666666667,39.15,'Java'),(-81.85,41.4,'Java'),(-82.8833333333333,40,'Java'),(-97.6,35.4,'Python'),(-122.666666666667,45.5333333333333,'Python'),(-75.25,39.8833333333333,'Python'),(-80.2166666666667,40.5,'Python'),(-71.4333333333333,41.7333333333333,'R'),(-81.1166666666667,33.95,'R'),(-96.7333333333333,43.5666666666667,'Python'),(-90,35.05,'R'),(-86.6833333333333,36.1166666666667,'R'),(-97.7,30.3,'Python'),(-96.85,32.85,'Java'),(-95.35,29.9666666666667,'Java'),(-98.4666666666667,29.5333333333333,'Java'),(-111.966666666667,40.7666666666667,'Python'),(-73.15,44.4666666666667,'R'),(-77.3333333333333,37.5,'Python'),(-122.3,47.5333333333333,'Python'),(-89.3333333333333,43.1333333333333,'R'),(-104.816666666667,41.15,'Java')]\n",
    "cities = [([longitude, latitude], language) for longitude, latitude, language in cities]"
   ]
  },
  {
   "cell_type": "markdown",
   "metadata": {},
   "source": [
    "```\n",
    "cities[:3]```"
   ]
  },
  {
   "cell_type": "code",
   "execution_count": 2,
   "metadata": {},
   "outputs": [
    {
     "data": {
      "text/plain": [
       "[([-86.75, 33.5666666666667], 'Python'),\n",
       " ([-88.25, 30.6833333333333], 'Python'),\n",
       " ([-112.016666666667, 33.4333333333333], 'Java')]"
      ]
     },
     "execution_count": 2,
     "metadata": {},
     "output_type": "execute_result"
    }
   ],
   "source": [
    "cities[:3]"
   ]
  },
  {
   "cell_type": "markdown",
   "metadata": {},
   "source": [
    "The following is a helper function for plotting US state borders."
   ]
  },
  {
   "cell_type": "markdown",
   "metadata": {},
   "source": [
    "```\n",
    "import re\n",
    "import matplotlib.pyplot as plt\n",
    "%matplotlib inline\n",
    "\n",
    "segments = []\n",
    "points = []\n",
    "\n",
    "lat_long_regex = r\"<point lat=\\\"(.*)\\\" lng=\\\"(.*)\\\"\"\n",
    "\n",
    "with open(\"US-states.txt\", \"r\") as f:\n",
    "    lines = [line for line in f]\n",
    "\n",
    "for line in lines:\n",
    "    if line.startswith(\"</state>\"):\n",
    "        for p1, p2 in zip(points, points[1:]):\n",
    "            segments.append((p1, p2))\n",
    "        points = []\n",
    "    s = re.search(lat_long_regex, line)\n",
    "    if s:\n",
    "        lat, lon = s.groups()\n",
    "        points.append((float(lon), float(lat)))\n",
    "\n",
    "#def plot_state_borders(color='0.8'):\n",
    "def plot_state_borders(color = 'black'):\n",
    "    for (lon1, lat1), (lon2, lat2) in segments:\n",
    "        plt.plot([lon1, lon2], [lat1, lat2], color=color)\n",
    "\n",
    "#plot_state_borders()```"
   ]
  },
  {
   "cell_type": "code",
   "execution_count": 11,
   "metadata": {},
   "outputs": [],
   "source": [
    "import re\n",
    "import matplotlib.pyplot as plt\n",
    "%matplotlib inline\n",
    "\n",
    "segments = []\n",
    "points = []\n",
    "\n",
    "lat_long_regex = r\"<point lat=\\\"(.*)\\\" lng=\\\"(.*)\\\"\"\n",
    "\n",
    "with open(\"US-states.txt\", \"r\") as f:\n",
    "    lines = [line for line in f]\n",
    "\n",
    "for line in lines:\n",
    "    if line.startswith(\"</state>\"):\n",
    "        for p1, p2 in zip(points, points[1:]):\n",
    "            segments.append((p1, p2))\n",
    "        points = []\n",
    "    s = re.search(lat_long_regex, line)\n",
    "    if s:\n",
    "        lat, lon = s.groups()\n",
    "        points.append((float(lon), float(lat)))\n",
    "\n",
    "#def plot_state_borders(color='0.8'):\n",
    "def plot_state_borders(color = 'black'):\n",
    "    for (lon1, lat1), (lon2, lat2) in segments:\n",
    "        plt.plot([lon1, lon2], [lat1, lat2], color=color)\n",
    "\n",
    "#plot_state_borders()"
   ]
  },
  {
   "cell_type": "markdown",
   "metadata": {},
   "source": [
    "The following function plots the data in cities:"
   ]
  },
  {
   "cell_type": "markdown",
   "metadata": {},
   "source": [
    "```\n",
    "def plot_cities():\n",
    "\n",
    "    # key is language, value is pair (longitudes, latitudes)\n",
    "    plots = { \"Java\" : ([], []), \"Python\" : ([], []), \"R\" : ([], []) }\n",
    "\n",
    "    # we want each language to have a different marker and color\n",
    "    markers = { \"Java\" : \"o\", \"Python\" : \"s\", \"R\" : \"^\" }\n",
    "    colors  = { \"Java\" : \"r\", \"Python\" : \"b\", \"R\" : \"g\" }\n",
    "\n",
    "    for (longitude, latitude), language in cities:\n",
    "        plots[language][0].append(longitude)\n",
    "        plots[language][1].append(latitude)\n",
    "    \n",
    "    plt.figure(figsize = (15, 9))\n",
    "    # create a scatter series for each language\n",
    "    for language, (x, y) in plots.items():\n",
    "        plt.scatter(x, y, color=colors[language], marker=markers[language],\n",
    "                          label=language, zorder=10)\n",
    "\n",
    "    plot_state_borders()    # assume we have a function that does this\n",
    "\n",
    "    plt.legend(loc=0)          # let matplotlib choose the location\n",
    "    plt.axis([-130,-60,20,55]) # set the axes\n",
    "    plt.title(\"Favorite Programming Languages\")\n",
    "    plt.show()```"
   ]
  },
  {
   "cell_type": "code",
   "execution_count": 9,
   "metadata": {},
   "outputs": [],
   "source": [
    "def plot_cities():\n",
    "\n",
    "    # key is language, value is pair (longitudes, latitudes)\n",
    "    plots = { \"Java\" : ([], []), \"Python\" : ([], []), \"R\" : ([], []) }\n",
    "\n",
    "    # we want each language to have a different marker and color\n",
    "    markers = { \"Java\" : \"o\", \"Python\" : \"s\", \"R\" : \"^\" }\n",
    "    colors  = { \"Java\" : \"r\", \"Python\" : \"b\", \"R\" : \"g\" }\n",
    "\n",
    "    for (longitude, latitude), language in cities:\n",
    "        plots[language][0].append(longitude)\n",
    "        plots[language][1].append(latitude)\n",
    "\n",
    "    plt.figure(figsize = (15, 9))\n",
    "    # create a scatter series for each language\n",
    "    for language, (x, y) in plots.items():\n",
    "        plt.scatter(x, y, color=colors[language], marker=markers[language],\n",
    "                          label=language, zorder=10)\n",
    "\n",
    "    plot_state_borders()    # assume we have a function that does this\n",
    "\n",
    "    plt.legend(loc=0)          # let matplotlib choose the location\n",
    "    plt.axis([-130,-60,20,55]) # set the axes\n",
    "    plt.title(\"Favorite Programming Languages\")\n",
    "    plt.show()"
   ]
  },
  {
   "cell_type": "markdown",
   "metadata": {},
   "source": [
    "```\n",
    "plot_cities()```\n"
   ]
  },
  {
   "cell_type": "code",
   "execution_count": 10,
   "metadata": {},
   "outputs": [
    {
     "data": {
      "image/png": "[encoded data removed]",
      "text/plain": [
       "<Figure size 1080x648 with 1 Axes>"
      ]
     },
     "metadata": {},
     "output_type": "display_data"
    }
   ],
   "source": [
    "plot_cities()"
   ]
  },
  {
   "cell_type": "markdown",
   "metadata": {},
   "source": [
    "Let’s say we’ve picked a number k like 3 or 5. Then when we want to classify some\n",
    "new data point, we find the k nearest labeled points and let them vote on the new\n",
    "output. To do this, we’ll need a function that counts votes. One possibility is:"
   ]
  },
  {
   "cell_type": "markdown",
   "metadata": {},
   "source": [
    "```\n",
    "from collections import Counter\n",
    "import math, random\n",
    "\n",
    "def raw_majority_vote(labels):\n",
    "    votes = Counter(labels)\n",
    "    winner, _ = votes.most_common(1)[0]\n",
    "    return winner```"
   ]
  },
  {
   "cell_type": "code",
   "execution_count": 13,
   "metadata": {},
   "outputs": [],
   "source": [
    "from collections import Counter\n",
    "import math, random\n",
    "\n",
    "def raw_majority_vote(labels):\n",
    "    votes = Counter(labels)\n",
    "    winner, _ = votes.most_common(1)[0]\n",
    "    return winner"
   ]
  },
  {
   "cell_type": "markdown",
   "metadata": {},
   "source": [
    "```\n",
    "labels = [2, 3, 3, 4, 4, 5]\n",
    "Counter(labels).most_common(1)```"
   ]
  },
  {
   "cell_type": "code",
   "execution_count": 14,
   "metadata": {},
   "outputs": [
    {
     "data": {
      "text/plain": [
       "[(3, 2)]"
      ]
     },
     "execution_count": 14,
     "metadata": {},
     "output_type": "execute_result"
    }
   ],
   "source": [
    "labels = [2, 3, 3, 4, 4, 5]\n",
    "Counter(labels).most_common(1)"
   ]
  },
  {
   "cell_type": "markdown",
   "metadata": {},
   "source": [
    "What happens if there are several labels having equal majority votes? We need a strategy to break the tie. There are several options:\n",
    "* Pick one of the winners at random.\n",
    "* Weight the votes by distance and pick the weighted winner.\n",
    "* Reduce k until we find a unique winner.\n",
    "\n",
    "The following implements the third:"
   ]
  },
  {
   "cell_type": "markdown",
   "metadata": {},
   "source": [
    "```\n",
    "def majority_vote(labels):\n",
    "    \"\"\"assumes that labels are ordered from nearest to farthest\"\"\"\n",
    "    vote_counts = Counter(labels)\n",
    "    winner, winner_count = vote_counts.most_common(1)[0]\n",
    "    num_winners = len([count\n",
    "                       for count in vote_counts.values()\n",
    "                       if count == winner_count])\n",
    "\n",
    "    if num_winners == 1:\n",
    "        return winner                     # unique winner, so return it\n",
    "    else:\n",
    "        return majority_vote(labels[:-1]) # try again without the farthest```"
   ]
  },
  {
   "cell_type": "code",
   "execution_count": 21,
   "metadata": {},
   "outputs": [],
   "source": [
    "def majority_vote(labels):\n",
    "    \"\"\"assumes that labels are ordered from nearest to farthest\"\"\"\n",
    "    vote_counts = Counter(labels)\n",
    "    winner, winner_count = vote_counts.most_common(1)[0]\n",
    "    num_winners = len([count\n",
    "                       for count in vote_counts.values()\n",
    "                       if count == winner_count])\n",
    "\n",
    "    if num_winners == 1:\n",
    "        return winner                     # unique winner, so return it\n",
    "    else:\n",
    "        return majority_vote(labels[:-1]) # try again without the farthest"
   ]
  },
  {
   "cell_type": "markdown",
   "metadata": {},
   "source": [
    "With this, we can create a KNN classifier:"
   ]
  },
  {
   "cell_type": "markdown",
   "metadata": {},
   "source": [
    "```\n",
    "from scipy.spatial import distance\n",
    "def knn_classify(k, labeled_points, new_point):\n",
    "    \"\"\"each labeled point should be a pair (point, label)\"\"\"\n",
    "\n",
    "    # order the labeled points from nearest to farthest\n",
    "    by_distance = sorted(labeled_points,\n",
    "                         key=lambda point_label: distance.euclidean(point_label[0], new_point))\n",
    "\n",
    "    # find the labels for the k closest\n",
    "    k_nearest_labels = [label for _, label in by_distance[:k]]\n",
    "\n",
    "    # and let them vote\n",
    "    return majority_vote(k_nearest_labels)```"
   ]
  },
  {
   "cell_type": "code",
   "execution_count": 24,
   "metadata": {},
   "outputs": [],
   "source": [
    "from scipy.spatial import distance\n",
    "def knn_classify(k, labeled_points, new_point):\n",
    "    \"\"\"each labeled point should be a pair (point, label)\"\"\"\n",
    "\n",
    "    # order the labeled points from nearest to farthest\n",
    "    by_distance = sorted(labeled_points,\n",
    "                         key=lambda point_label: distance.euclidean(point_label[0], new_point))\n",
    "\n",
    "    # find the labels for the k closest\n",
    "    k_nearest_labels = [label for _, label in by_distance[:k]]\n",
    "\n",
    "    # and let them vote\n",
    "    return majority_vote(k_nearest_labels)"
   ]
  },
  {
   "cell_type": "markdown",
   "metadata": {},
   "source": [
    "To start with, let’s look at what happens if we try to predict each city’s preferred language\n",
    "using its neighbors other than itself:"
   ]
  },
  {
   "cell_type": "markdown",
   "metadata": {},
   "source": [
    "```\n",
    "# try several different values for k\n",
    "for k in [1, 3, 5, 7]:\n",
    "    num_correct = 0\n",
    "\n",
    "    for location, actual_language in cities:\n",
    "\n",
    "        other_cities = [other_city\n",
    "                         for other_city in cities\n",
    "                         if other_city != (location, actual_language)]\n",
    "\n",
    "        predicted_language = knn_classify(k, other_cities, location)\n",
    "\n",
    "        if predicted_language == actual_language:\n",
    "            num_correct += 1\n",
    "\n",
    "    print(k, \"neighbor[s]:\", num_correct, \"correct out of\", len(cities))```"
   ]
  },
  {
   "cell_type": "code",
   "execution_count": 25,
   "metadata": {},
   "outputs": [
    {
     "name": "stdout",
     "output_type": "stream",
     "text": [
      "1 neighbor[s]: 40 correct out of 75\n",
      "3 neighbor[s]: 44 correct out of 75\n",
      "5 neighbor[s]: 41 correct out of 75\n",
      "7 neighbor[s]: 35 correct out of 75\n"
     ]
    }
   ],
   "source": [
    "# try several different values for k\n",
    "for k in [1, 3, 5, 7]:\n",
    "    num_correct = 0\n",
    "\n",
    "    for location, actual_language in cities:\n",
    "\n",
    "        other_cities = [other_city\n",
    "                         for other_city in cities\n",
    "                         if other_city != (location, actual_language)]\n",
    "\n",
    "        predicted_language = knn_classify(k, other_cities, location)\n",
    "\n",
    "        if predicted_language == actual_language:\n",
    "            num_correct += 1\n",
    "\n",
    "    print(k, \"neighbor[s]:\", num_correct, \"correct out of\", len(cities))"
   ]
  },
  {
   "cell_type": "markdown",
   "metadata": {},
   "source": [
    "Now we can look at what regions would get classified to which languages under each\n",
    "nearest neighbors scheme. We can do that by classifying an entire grid worth of\n",
    "points, and then plotting them as we did the cities:"
   ]
  },
  {
   "cell_type": "markdown",
   "metadata": {},
   "source": [
    "```\n",
    "def classify_and_plot_grid(k=1):\n",
    "    plots = { \"Java\" : ([], []), \"Python\" : ([], []), \"R\" : ([], []) }\n",
    "    markers = { \"Java\" : \"o\", \"Python\" : \"s\", \"R\" : \"^\" }\n",
    "    colors  = { \"Java\" : \"red\", \"Python\" : \"blue\", \"R\" : \"green\" }\n",
    "\n",
    "    for longitude in range(-130, -60):\n",
    "        for latitude in range(20, 55):\n",
    "            predicted_language = knn_classify(k, cities, [longitude, latitude])\n",
    "            plots[predicted_language][0].append(longitude)\n",
    "            plots[predicted_language][1].append(latitude)\n",
    "\n",
    "    plt.figure(figsize = (15, 9))\n",
    "    # create a scatter series for each language\n",
    "    for language, (x, y) in plots.items():\n",
    "        plt.scatter(x, y, color=colors[language], marker=markers[language],\n",
    "                          label=language, zorder=0)\n",
    "\n",
    "    plot_state_borders()    # assume we have a function that does this\n",
    "\n",
    "    plt.legend(loc=0)          # let matplotlib choose the location\n",
    "    plt.axis([-130,-60,20,55]) # set the axes\n",
    "    plt.title(str(k) + \"-Nearest Neighbor Programming Languages\")\n",
    "    plt.show()```"
   ]
  },
  {
   "cell_type": "code",
   "execution_count": null,
   "metadata": {},
   "outputs": [],
   "source": []
  },
  {
   "cell_type": "markdown",
   "metadata": {},
   "source": [
    "```\n",
    "classify_and_plot_grid(3)```"
   ]
  },
  {
   "cell_type": "code",
   "execution_count": null,
   "metadata": {},
   "outputs": [],
   "source": []
  },
  {
   "cell_type": "markdown",
   "metadata": {},
   "source": [
    "## The Curse of Demensionality\n",
    "k-nearest neighbors runs into trouble in higher dimensions thanks to the “curse of\n",
    "dimensionality,” which boils down to the fact that high-dimensional spaces are vast.\n",
    "Points in high-dimensional spaces tend not to be close to one another at all. One way\n",
    "to see this is by randomly generating pairs of points in the d-dimensional “unit cube”\n",
    "in a variety of dimensions, and calculating the distances between them."
   ]
  },
  {
   "cell_type": "markdown",
   "metadata": {},
   "source": [
    "Let us define a function to compute a list (len = num_pairs) of distances between two points with dimensions $dim$:"
   ]
  },
  {
   "cell_type": "markdown",
   "metadata": {},
   "source": [
    "```\n",
    "from scipy.spatial import distance\n",
    "import numpy as np\n",
    "import random\n",
    "\n",
    "def random_distances(dim, num_pairs):\n",
    "    return [distance.euclidean(np.random.rand(1, dim), np.random.rand(1, dim))\n",
    "            for _ in range(num_pairs)]```"
   ]
  },
  {
   "cell_type": "code",
   "execution_count": null,
   "metadata": {},
   "outputs": [],
   "source": []
  },
  {
   "cell_type": "markdown",
   "metadata": {},
   "source": [
    "For a range of dimensions between 1 and 101 with stride 5, compute 10000 distances:"
   ]
  },
  {
   "cell_type": "markdown",
   "metadata": {},
   "source": [
    "```\n",
    "dimensions = range(1, 101, 5)\n",
    "\n",
    "avg_distances = []\n",
    "min_distances = []\n",
    "\n",
    "random.seed(0)\n",
    "for dim in dimensions:\n",
    "     distances = random_distances(dim, 10000)  # 10,000 random pairs\n",
    "     avg_distances.append(np.mean(distances))     # track the average\n",
    "     min_distances.append(min(distances))      # track the minimum\n",
    "     #print(dim, min(distances), mean(distances), min(distances) / mean(distances))```"
   ]
  },
  {
   "cell_type": "code",
   "execution_count": null,
   "metadata": {},
   "outputs": [],
   "source": []
  },
  {
   "cell_type": "markdown",
   "metadata": {},
   "source": [
    "Plot the ratio between mininum distances and averge distances as the dimension increases:"
   ]
  },
  {
   "cell_type": "markdown",
   "metadata": {},
   "source": [
    "```\n",
    "plt.plot(list(dimensions), list(np.array(min_distances) / np.array(avg_distances)))```"
   ]
  },
  {
   "cell_type": "code",
   "execution_count": null,
   "metadata": {},
   "outputs": [],
   "source": []
  },
  {
   "cell_type": "markdown",
   "metadata": {},
   "source": [
    "In low-dimensional data sets, the closest points tend to be much closer than average.\n",
    "But two points are close only if they’re close in every dimension, and every extra\n",
    "dimension—even if just noise—is another opportunity for each point to be further\n",
    "away from every other point. When you have a lot of dimensions, it’s likely that the\n",
    "closest points aren’t much closer than average, which means that two points being\n",
    "close doesn’t mean very much (unless there’s a lot of structure in your data that makes\n",
    "it behave as if it were much lower-dimensional).\n",
    "\n",
    "A different way of thinking about the problem involves the sparsity of higherdimensional\n",
    "spaces.\n",
    "\n",
    "If you pick 50 random numbers between 0 and 1, you’ll probably get a pretty good\n",
    "sample of the unit interval:\n",
    "\n",
    "![](fifty-points-one-dimension.png)\n",
    "\n",
    "If you pick 50 random points in the unit square, you’ll get less coverage:\n",
    "\n",
    "![](fifty-points-two-dimension.png)\n",
    "\n",
    "And in three dimensions less still:\n",
    "\n",
    "![](fifty-points-three-dimension.png)\n",
    "\n",
    "So if you’re trying to use nearest neighbors in higher dimensions, it’s probably a good\n",
    "idea to do some kind of dimensionality reduction first."
   ]
  },
  {
   "cell_type": "code",
   "execution_count": null,
   "metadata": {},
   "outputs": [],
   "source": []
  }
 ],
 "metadata": {
  "kernelspec": {
   "display_name": "Python 3",
   "language": "python",
   "name": "python3"
  },
  "language_info": {
   "codemirror_mode": {
    "name": "ipython",
    "version": 3
   },
   "file_extension": ".py",
   "mimetype": "text/x-python",
   "name": "python",
   "nbconvert_exporter": "python",
   "pygments_lexer": "ipython3",
   "version": "3.6.5"
  }
 },
 "nbformat": 4,
 "nbformat_minor": 2
}
