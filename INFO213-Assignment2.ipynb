{
 "cells": [
  {
   "cell_type": "markdown",
   "metadata": {},
   "source": [
    "<h1 style=\"text-align:center\"> Drexel University </h1>\n",
    "<h2 style = \"text-align:center\"> College of Computing and Informatics</h2>\n",
    "<h2 style = \"text-align:center\">INFO 213: Data Science Programming II</h2>\n",
    "<h3 style = \"text-align:center\">Assignment 2</h3>\n",
    "<div style=\"text-align:center; border-style:solid; padding: 10px\">\n",
    "<div style=\"font-weight:bold\">Due Date: Sunday, July 22, 2018</div>\n",
    "This assignment counts for 15% of the final grade\n",
    "</div>\n",
    "\n",
    "<h3 style=\"color:red; font-weight:bold; text-decoration: underline\">DON'T FORGET TO PUT YOUR NAME BELOW</h3>\n",
    "\n",
    "### NAME:\n",
    "\n",
    "\n",
    "### A. Assignment Overview\n",
    "This assignment provides the opportunity for you to practice with the data science in Python. \n",
    "\n",
    "### B. What to Hand In\n",
    "\t\n",
    "Sumbit a completed this Jupyter notebook. \n",
    "\n",
    "### C. How to Hand In\n",
    "\n",
    "Submit your Jupyter notebook file through the course website in the Blackboard Learn system.\n",
    "\n",
    "### D. When to Hand In\n",
    "\n",
    "1. Submit your assignment no later than 11:59pm in the due date.\n",
    "2. There will be a 10% (absolute value) deduction for each day of lateness, to a maximum of 3 days; assignments will not be accepted beyond that point. Missing work will earn a zero grade.\n",
    "\n",
    "### E. Written Presentation Requirements (if applicable)\n",
    "Images must be clear and legible. Assignments will be judged on the basis of visual appearance, grammatical correctness, and quality of writing, as well as their contents. Please make sure that the text of your assignments is well-structured, using paragraphs, full sentences, and other features of well-written presentation.\n",
    "\n",
    "### F. Marking Schemes:\n",
    "\n",
    "Marking assignments will be based on several aspects: presentation, correctness and coding styles. \n",
    "\n",
    "1. Write a good comment for each variable, each method, each control branch, and each loop. \n",
    "2. Your method comments must mention the purpose of each parameter, and must be grammatically correct.  \n",
    "\n",
    "### G. Data Sets\n",
    "\n",
    "This assignment needs the data sets specified in the questions.\n",
    "\n",
    "### H. Answer the following questions"
   ]
  },
  {
   "cell_type": "markdown",
   "metadata": {},
   "source": [
    "## Question 1:\n",
    "\n",
    "Implement the core function `knn_classify(k, labeled_points, new_point)` for KNN classification algorithm. Your implementation may use the `distance(v, w)` and `majority_vote_weighted(labels, distances)` functions you implemented in Assignment 1. Copy or import from Assignment 1 all the functions that are required here. Test the algorithm using the Iris Flower data set. I have extracted the training data and test set as `labeled_points` and `new_points`. The `labeled_points` set contains 120 instances. The `new_points` set contains 30 instances for testing. Evaluate the implemented algorithm using the set of `new_points` in terms of accuracy, recall, precision, and F1-score. Use different k values to evaluate the algorithm."
   ]
  },
  {
   "cell_type": "code",
   "execution_count": 23,
   "metadata": {},
   "outputs": [],
   "source": [
    "# import or copy from Assignment 1 all the methods needed here.\n"
   ]
  },
  {
   "cell_type": "code",
   "execution_count": 24,
   "metadata": {},
   "outputs": [],
   "source": [
    "def knn_classify(k, labeled_points, new_point):\n",
    "    \"\"\"\n",
    "    classifies the new_point by a KNN algorithm using majority_vote_weighted()\n",
    "    INPUT:\n",
    "        k: number of neighbors used for classification\n",
    "        labeled_points: a set of training instances each of which should be a pair (point, label)\n",
    "        new_point: a new instance under clasification; a point is simply a list of numbers\n",
    "    OUTPUT:\n",
    "        label: the classified lable for the new_point\n",
    "    \"\"\"\n",
    "\n",
    "    # compute the distances from the new point to each labeled_point\n",
    "    labels = []\n",
    "    distances = []\n",
    "    \n",
    "    ###############YOUR CODE HERE##################\n",
    "    \n",
    "    \n",
    "    \n",
    "    ##############################################\n",
    "\n",
    "    # and let them vote\n",
    "    return majority_vote_weighted(labels[:k], distances[:k])"
   ]
  },
  {
   "cell_type": "markdown",
   "metadata": {},
   "source": [
    "### Test\n",
    "The following tests the function `knn_classify(k, labeled_points, new_point)`"
   ]
  },
  {
   "cell_type": "code",
   "execution_count": 14,
   "metadata": {},
   "outputs": [],
   "source": [
    "import pandas as pd\n",
    "iris_df = pd.read_csv(\"Iris.csv\")\n",
    "X = iris_df.iloc[:, 1:-1]\n",
    "y = iris_df.Species\n",
    "\n",
    "from sklearn.model_selection import train_test_split\n",
    "X_train, X_test, y_train, y_test = train_test_split(X, y, test_size = 0.2, random_state = 42)\n",
    "\n",
    "labeled_points = []\n",
    "for i in range(X_train.shape[0]):\n",
    "    point = X_train.iloc[i]\n",
    "    label = y_train.iloc[i]\n",
    "    labeled_points.append((list(point), label))\n",
    "\n",
    "new_points = []\n",
    "for i in range(X_test.shape[0]):\n",
    "    new_points.append(list(X_test.iloc[i]))"
   ]
  },
  {
   "cell_type": "code",
   "execution_count": 28,
   "metadata": {},
   "outputs": [],
   "source": [
    "y_pred = []\n",
    "for new_point in new_points:\n",
    "    lab = 'test' # comment out this when test; use the following statement\n",
    "    #lab = knn_classify(3, labeled_points, new_point)\n",
    "    y_pred.append(lab)"
   ]
  },
  {
   "cell_type": "markdown",
   "metadata": {},
   "source": [
    "### Evaluation"
   ]
  },
  {
   "cell_type": "code",
   "execution_count": 29,
   "metadata": {},
   "outputs": [],
   "source": [
    "y_pred_series = pd.Series(y_pred)"
   ]
  },
  {
   "cell_type": "code",
   "execution_count": 30,
   "metadata": {},
   "outputs": [],
   "source": [
    "y_test.index = range(y_test.shape[0])"
   ]
  },
  {
   "cell_type": "code",
   "execution_count": 31,
   "metadata": {},
   "outputs": [
    {
     "name": "stdout",
     "output_type": "stream",
     "text": [
      "The classification accuracy:  0.0\n"
     ]
    }
   ],
   "source": [
    "print(\"The classification accuracy: \", sum(y_test == y_pred_series)/len(y_test))"
   ]
  },
  {
   "cell_type": "code",
   "execution_count": 32,
   "metadata": {},
   "outputs": [
    {
     "name": "stdout",
     "output_type": "stream",
     "text": [
      "recall for class 'Iris-versicolor' = 0.0\n",
      "precision for class 'Iris-versicolor' = nan\n",
      "F1 Score for class 'Iris-versicolor' = 0.0\n"
     ]
    },
    {
     "name": "stderr",
     "output_type": "stream",
     "text": [
      "c:\\users\\anyuanay\\documents\\anaconda3\\lib\\site-packages\\ipykernel_launcher.py:10: RuntimeWarning: invalid value encountered in long_scalars\n",
      "  # Remove the CWD from sys.path while we load stuff.\n"
     ]
    }
   ],
   "source": [
    "tp = sum((y_test == 'Iris-versicolor') & (y_pred_series == 'Iris-versicolor'))\n",
    "\n",
    "fn = sum((y_test == 'Iris-versicolor') & (y_pred_series != 'Iris-versicolor'))\n",
    "\n",
    "fp= sum((y_test  != 'Iris-versicolor') & (y_pred_series == 'Iris-versicolor'))\n",
    "\n",
    "tn = sum((y_test != 'Iris-versicolor') & (y_pred_series != 'Iris-versicolor'))\n",
    "\n",
    "print(\"recall for class 'Iris-versicolor' = \" + str(tp / (tp + fn)))\n",
    "print(\"precision for class 'Iris-versicolor' = \" + str(tp / (tp + fp)))\n",
    "print(\"F1 Score for class 'Iris-versicolor' = \" + str(2 * tp /(2 * tp + fp + fn))) "
   ]
  },
  {
   "cell_type": "code",
   "execution_count": 33,
   "metadata": {},
   "outputs": [
    {
     "name": "stdout",
     "output_type": "stream",
     "text": [
      "recall for class 'Iris-setosa' = 0.0\n",
      "precision for class 'Iris-setosa' = nan\n",
      "F1 Score for class 'Iris-setosa' = 0.0\n"
     ]
    },
    {
     "name": "stderr",
     "output_type": "stream",
     "text": [
      "c:\\users\\anyuanay\\documents\\anaconda3\\lib\\site-packages\\ipykernel_launcher.py:10: RuntimeWarning: invalid value encountered in long_scalars\n",
      "  # Remove the CWD from sys.path while we load stuff.\n"
     ]
    }
   ],
   "source": [
    "tp = sum((y_test == 'Iris-setosa') & (y_pred_series == 'Iris-setosa'))\n",
    "\n",
    "fn = sum((y_test == 'Iris-setosa') & (y_pred_series != 'Iris-setosa'))\n",
    "\n",
    "fp= sum((y_test  != 'Iris-setosa') & (y_pred_series == 'Iris-setosa'))\n",
    "\n",
    "tn = sum((y_test != 'Iris-setosa') & (y_pred_series != 'Iris-setosa'))\n",
    "\n",
    "print(\"recall for class 'Iris-setosa' = \" + str(tp / (tp + fn)))\n",
    "print(\"precision for class 'Iris-setosa' = \" + str(tp / (tp + fp)))\n",
    "print(\"F1 Score for class 'Iris-setosa' = \" + str(2 * tp /(2 * tp + fp + fn))) "
   ]
  },
  {
   "cell_type": "code",
   "execution_count": 34,
   "metadata": {},
   "outputs": [
    {
     "name": "stdout",
     "output_type": "stream",
     "text": [
      "recall for class 'Iris-virginica' = 0.0\n",
      "precision for class 'Iris-virginica' = nan\n",
      "F1 Score for class 'Iris-virginica' = 0.0\n"
     ]
    },
    {
     "name": "stderr",
     "output_type": "stream",
     "text": [
      "c:\\users\\anyuanay\\documents\\anaconda3\\lib\\site-packages\\ipykernel_launcher.py:10: RuntimeWarning: invalid value encountered in long_scalars\n",
      "  # Remove the CWD from sys.path while we load stuff.\n"
     ]
    }
   ],
   "source": [
    "tp = sum((y_test == 'Iris-virginica') & (y_pred_series == 'Iris-virginica'))\n",
    "\n",
    "fn = sum((y_test == 'Iris-virginica') & (y_pred_series != 'Iris-virginica'))\n",
    "\n",
    "fp= sum((y_test  != 'Iris-virginica') & (y_pred_series == 'Iris-virginica'))\n",
    "\n",
    "tn = sum((y_test != 'Iris-virginica') & (y_pred_series != 'Iris-virginica'))\n",
    "\n",
    "print(\"recall for class 'Iris-virginica' = \" + str(tp / (tp + fn)))\n",
    "print(\"precision for class 'Iris-virginica' = \" + str(tp / (tp + fp)))\n",
    "print(\"F1 Score for class 'Iris-virginica' = \" + str(2 * tp /(2 * tp + fp + fn))) "
   ]
  },
  {
   "cell_type": "markdown",
   "metadata": {},
   "source": [
    "### Your Evaluation\n",
    "You are encouraged to use different k values to evaluate the performance."
   ]
  },
  {
   "cell_type": "code",
   "execution_count": null,
   "metadata": {},
   "outputs": [],
   "source": []
  },
  {
   "cell_type": "markdown",
   "metadata": {},
   "source": [
    "## Question 2\n",
    "MNIST (\"Modified National Institute of Standards and Technology\") is the de facto “hello world” dataset of computer vision. Since its release in 1999, this classic dataset of handwritten images has served as the basis for benchmarking classification algorithms. \n",
    "\n",
    "The goal is to correctly identify digits from a dataset of tens of thousands of handwritten images. We've curated small sets of data for training and testing. The file digits-4k.csv contains 4000 hand-written digit images for training, while digits-2h.csv contains 200 digit images for testing. \n",
    "\n",
    "Each image is 28 pixels in height and 28 pixels in width, for a total of 784 pixels in total. Each pixel has a single pixel-value associated with it, indicating the lightness or darkness of that pixel, with higher numbers meaning darker. This pixel-value is an integer between 0 and 255, inclusive.\n",
    "\n",
    "Each data set has 785 columns. The first column, called \"label\", is the digit that was drawn by the user. The rest of the columns contain the pixel-values of the associated image.\n",
    "\n",
    "Use the KNN classifier in the Sciket Learn package to classify the 200 images in the test set (using the 4000 instances in digits-4k.csv as the training data). The KNN classifier can be imported as sklearn.neighbors.KNeighborsClassifier. \n",
    "\n",
    "Write a program to evaluate the KNN classifier with k ranging from 1 to 15. Plot the scores of the classifier against the range of k values.\n",
    "\n",
    "Discuss the results, for example, any thoughts on improving the accuracy?"
   ]
  },
  {
   "cell_type": "code",
   "execution_count": 142,
   "metadata": {},
   "outputs": [],
   "source": [
    "train_4k = pd.read_csv(\"digits-4k.csv\")"
   ]
  },
  {
   "cell_type": "code",
   "execution_count": 143,
   "metadata": {},
   "outputs": [],
   "source": [
    "test_2h = pd.read_csv(\"digits-2h.csv\")"
   ]
  },
  {
   "cell_type": "code",
   "execution_count": 147,
   "metadata": {},
   "outputs": [],
   "source": [
    "from sklearn.neighbors import KNeighborsClassifier"
   ]
  },
  {
   "cell_type": "markdown",
   "metadata": {},
   "source": [
    "#### Build, test, plot the results below"
   ]
  },
  {
   "cell_type": "code",
   "execution_count": null,
   "metadata": {},
   "outputs": [],
   "source": []
  }
 ],
 "metadata": {
  "kernelspec": {
   "display_name": "Python 3",
   "language": "python",
   "name": "python3"
  },
  "language_info": {
   "codemirror_mode": {
    "name": "ipython",
    "version": 3
   },
   "file_extension": ".py",
   "mimetype": "text/x-python",
   "name": "python",
   "nbconvert_exporter": "python",
   "pygments_lexer": "ipython3",
   "version": "3.6.4"
  }
 },
 "nbformat": 4,
 "nbformat_minor": 2
}
