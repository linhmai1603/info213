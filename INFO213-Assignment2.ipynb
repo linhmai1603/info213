{
 "cells": [
  {
   "cell_type": "markdown",
   "metadata": {},
   "source": [
    "<h1 style=\"text-align:center\"> Drexel University </h1>\n",
    "<h2 style = \"text-align:center\"> College of Computing and Informatics</h2>\n",
    "<h2 style = \"text-align:center\">INFO 213: Data Science Programming II</h2>\n",
    "<h3 style = \"text-align:center\">Assignment 2</h3>\n",
    "<div style=\"text-align:center; border-style:solid; padding: 10px\">\n",
    "<div style=\"font-weight:bold\">Due Date: Sunday, July 22, 2018</div>\n",
    "This assignment counts for 15% of the final grade\n",
    "</div>\n",
    "\n",
    "<h3 style=\"color:red; font-weight:bold; text-decoration: underline\">DON'T FORGET TO PUT YOUR NAME BELOW</h3>\n",
    "\n",
    "### NAME: Linh Mai\n",
    "\n",
    "\n",
    "### A. Assignment Overview\n",
    "This assignment provides the opportunity for you to practice with the data science in Python. \n",
    "\n",
    "### B. What to Hand In\n",
    "\t\n",
    "Sumbit a completed this Jupyter notebook. \n",
    "\n",
    "### C. How to Hand In\n",
    "\n",
    "Submit your Jupyter notebook file through the course website in the Blackboard Learn system.\n",
    "\n",
    "### D. When to Hand In\n",
    "\n",
    "1. Submit your assignment no later than 11:59pm in the due date.\n",
    "2. There will be a 10% (absolute value) deduction for each day of lateness, to a maximum of 3 days; assignments will not be accepted beyond that point. Missing work will earn a zero grade.\n",
    "\n",
    "### E. Written Presentation Requirements (if applicable)\n",
    "Images must be clear and legible. Assignments will be judged on the basis of visual appearance, grammatical correctness, and quality of writing, as well as their contents. Please make sure that the text of your assignments is well-structured, using paragraphs, full sentences, and other features of well-written presentation.\n",
    "\n",
    "### F. Marking Schemes:\n",
    "\n",
    "Marking assignments will be based on several aspects: presentation, correctness and coding styles. \n",
    "\n",
    "1. Write a good comment for each variable, each method, each control branch, and each loop. \n",
    "2. Your method comments must mention the purpose of each parameter, and must be grammatically correct.  \n",
    "\n",
    "### G. Data Sets\n",
    "\n",
    "This assignment needs the data sets specified in the questions.\n",
    "\n",
    "### H. Answer the following questions"
   ]
  },
  {
   "cell_type": "markdown",
   "metadata": {},
   "source": [
    "## Question 1:\n",
    "\n",
    "Implement the core function `knn_classify(k, labeled_points, new_point)` for KNN classification algorithm. Your implementation may use the `distance(v, w)` and `majority_vote_weighted(labels, distances)` functions you implemented in Assignment 1. Copy or import from Assignment 1 all the functions that are required here. Test the algorithm using the Iris Flower data set. I have extracted the training data and test set as `labeled_points` and `new_points`. The `labeled_points` set contains 120 instances. The `new_points` set contains 30 instances for testing. Evaluate the implemented algorithm using the set of `new_points` in terms of accuracy, recall, precision, and F1-score. Use different k values to evaluate the algorithm."
   ]
  },
  {
   "cell_type": "code",
   "execution_count": 15,
   "metadata": {},
   "outputs": [],
   "source": [
    "# import or copy from Assignment 1 all the methods needed here.\n",
    "import math, random\n",
    "from collections import defaultdict, Counter\n",
    "\n",
    "def majority_vote_weighted(labels, distances):\n",
    "    #print(distances)\n",
    "    \n",
    "    #candidates = []\n",
    "    #for i in range(0,len(distances)):\n",
    "    #    if distances[i]==0:\n",
    "    #        candidates.append(labels[i])\n",
    "    #if len(candidates)!=0:\n",
    "    #    return random.choice(candidates)\n",
    "            \n",
    "    \n",
    "    weights = [1/x for x in distances]\n",
    "            \n",
    "    label_weight = defaultdict(float)\n",
    "    for i, l in enumerate(labels):\n",
    "        label_weight[l] = label_weight[l] + weights[i]\n",
    "    counts = Counter(labels)\n",
    "    \n",
    "    for l in label_weight:\n",
    "        label_weight[l] = label_weight[l] / counts[l]\n",
    "    \n",
    "    max_weight = max(label_weight.values())\n",
    "    \n",
    "    candidates = []\n",
    "    for l in label_weight:\n",
    "        if label_weight[l] == max_weight:\n",
    "            candidates.append(l)\n",
    "    if len(candidates) == 1:\n",
    "        return candidates[0]\n",
    "    else:\n",
    "        return random.choice(candidates)"
   ]
  },
  {
   "cell_type": "code",
   "execution_count": 16,
   "metadata": {},
   "outputs": [],
   "source": [
    "def vector_subtract(v, w):\n",
    "    \"\"\"\n",
    "    subtracts two vectors componentwise\n",
    "    INPUT: v, w are two vectors of numbers in the same length\n",
    "    OUTPUT: a vector containing the subtractions of the corresponding elements in v and w\n",
    "    \"\"\"\n",
    "    return [v_i - w_i for v_i, w_i in zip(v,w)]\n"
   ]
  },
  {
   "cell_type": "code",
   "execution_count": 17,
   "metadata": {},
   "outputs": [],
   "source": [
    "def dot(v, w):\n",
    "    \"\"\"\n",
    "    computes the dot product of two vectors\n",
    "    INPUT: v and w are two vectors of numbers in the same length\n",
    "    OUTPUT: the dot product of v and w as defined as\n",
    "            v_1 * w_1 + ... + v_n * w_n\n",
    "    \"\"\"\n",
    "    return sum(v_i * w_i for v_i, w_i in zip(v, w))"
   ]
  },
  {
   "cell_type": "code",
   "execution_count": 18,
   "metadata": {},
   "outputs": [],
   "source": [
    "import math\n",
    "def sum_of_squares(v):\n",
    "    \"\"\"\n",
    "    computes the sum of squares of the elements in a vector\n",
    "    INPUT: v is a vector of numbers\n",
    "    OUTPUT: the sum of squares of the elements in v as defined as\n",
    "            v_1 * v_1 + ... + v_n * v_n\"\"\"\n",
    "    return dot(v, v)"
   ]
  },
  {
   "cell_type": "code",
   "execution_count": 19,
   "metadata": {},
   "outputs": [],
   "source": [
    "def squared_distance(v, w):\n",
    "    \"\"\"\n",
    "    computes the squared distance between two vectors\n",
    "    INPUT: v and w are two vectors of numbers in the same length\n",
    "    OUTPUT: squared distance between v and w\n",
    "    \"\"\"\n",
    "    return sum_of_squares(vector_subtract(v, w))\n"
   ]
  },
  {
   "cell_type": "code",
   "execution_count": 20,
   "metadata": {},
   "outputs": [],
   "source": [
    "def distance(v, w):\n",
    "    \"\"\"\n",
    "    computes the Euclidean distance between two vectors\n",
    "    INPUT: v and w are two vectors of numbers in the same length\n",
    "    OUTPUT: the Euclidean distance between v and w\n",
    "    \"\"\"\n",
    "    return math.sqrt(squared_distance(v, w))\n"
   ]
  },
  {
   "cell_type": "code",
   "execution_count": 21,
   "metadata": {},
   "outputs": [],
   "source": [
    "#from scipy.spatial import distance\n",
    "def knn_classify(k, labeled_points, new_point):\n",
    "    \"\"\"\n",
    "    classifies the new_point by a KNN algorithm using majority_vote_weighted()\n",
    "    INPUT:\n",
    "        k: number of neighbors used for classification\n",
    "        labeled_points: a set of training instances each of which should be a pair (point, label)\n",
    "        new_point: a new instance under clasification; a point is simply a list of numbers\n",
    "    OUTPUT:\n",
    "        label: the classified lable for the new_point\n",
    "    \"\"\"\n",
    "\n",
    "    # compute the distances from the new point to each labeled_point\n",
    "    labels = []\n",
    "    distances = []\n",
    "    \n",
    "    ###############YOUR CODE HERE##################\n",
    "    # order the labeled points from nearest to farthest\n",
    "    #print(labeled_points[0])\n",
    "    sorted_labeled_points = list(sorted(labeled_points, key=lambda point_label: distance(point_label[0], new_point)))\n",
    "    #print(sorted_labeled_points)\n",
    "    for labeled_point in sorted_labeled_points:\n",
    "        dist = distance(labeled_point[0], new_point)\n",
    "        distances.append(dist+0.000000001)\n",
    "        labels.append(labeled_point[1])\n",
    "   \n",
    "    ##############################################\n",
    "    # and let them vote\n",
    "    return majority_vote_weighted(labels[:k], distances[:k])"
   ]
  },
  {
   "cell_type": "markdown",
   "metadata": {},
   "source": [
    "### Test\n",
    "The following tests the function `knn_classify(k, labeled_points, new_point)`"
   ]
  },
  {
   "cell_type": "code",
   "execution_count": 22,
   "metadata": {},
   "outputs": [],
   "source": [
    "import pandas as pd\n",
    "iris_df = pd.read_csv(\"Iris.csv\")\n",
    "X = iris_df.iloc[:, 1:-1]\n",
    "y = iris_df.Species\n",
    "\n",
    "from sklearn.model_selection import train_test_split\n",
    "X_train, X_test, y_train, y_test = train_test_split(X, y, test_size = 0.2, random_state = 42)\n",
    "\n",
    "labeled_points = []\n",
    "for i in range(X_train.shape[0]):\n",
    "    point = X_train.iloc[i]\n",
    "    label = y_train.iloc[i]\n",
    "    labeled_points.append((list(point), label))\n",
    "\n",
    "new_points = []\n",
    "for i in range(X_test.shape[0]):\n",
    "    new_points.append(list(X_test.iloc[i]))"
   ]
  },
  {
   "cell_type": "markdown",
   "metadata": {},
   "source": [
    "### Evaluation"
   ]
  },
  {
   "cell_type": "code",
   "execution_count": 23,
   "metadata": {},
   "outputs": [],
   "source": [
    "y_pred = []\n",
    "for new_point in new_points:\n",
    "    #lab = 'test' # comment out this when test; use the following statement\n",
    "    lab = knn_classify(5, labeled_points, new_point)\n",
    "    y_pred.append(lab)"
   ]
  },
  {
   "cell_type": "code",
   "execution_count": 24,
   "metadata": {},
   "outputs": [],
   "source": [
    "y_pred_series = pd.Series(y_pred)"
   ]
  },
  {
   "cell_type": "code",
   "execution_count": 25,
   "metadata": {},
   "outputs": [],
   "source": [
    "y_test.index = range(y_test.shape[0])"
   ]
  },
  {
   "cell_type": "code",
   "execution_count": 26,
   "metadata": {},
   "outputs": [
    {
     "name": "stdout",
     "output_type": "stream",
     "text": [
      "The classification accuracy:  1.0\n"
     ]
    }
   ],
   "source": [
    "print(\"The classification accuracy: \", sum(y_test == y_pred_series)/len(y_test))"
   ]
  },
  {
   "cell_type": "code",
   "execution_count": 27,
   "metadata": {},
   "outputs": [
    {
     "name": "stdout",
     "output_type": "stream",
     "text": [
      "recall for class 'Iris-versicolor' = 1.0\n",
      "precision for class 'Iris-versicolor' = 1.0\n",
      "F1 Score for class 'Iris-versicolor' = 1.0\n"
     ]
    }
   ],
   "source": [
    "tp = sum((y_test == 'Iris-versicolor') & (y_pred_series == 'Iris-versicolor'))\n",
    "\n",
    "fn = sum((y_test == 'Iris-versicolor') & (y_pred_series != 'Iris-versicolor'))\n",
    "\n",
    "fp= sum((y_test  != 'Iris-versicolor') & (y_pred_series == 'Iris-versicolor'))\n",
    "\n",
    "tn = sum((y_test != 'Iris-versicolor') & (y_pred_series != 'Iris-versicolor'))\n",
    "\n",
    "print(\"recall for class 'Iris-versicolor' = \" + str(tp / (tp + fn)))\n",
    "print(\"precision for class 'Iris-versicolor' = \" + str(tp / (tp + fp)))\n",
    "print(\"F1 Score for class 'Iris-versicolor' = \" + str(2 * tp /(2 * tp + fp + fn))) "
   ]
  },
  {
   "cell_type": "code",
   "execution_count": 28,
   "metadata": {},
   "outputs": [
    {
     "name": "stdout",
     "output_type": "stream",
     "text": [
      "recall for class 'Iris-setosa' = 1.0\n",
      "precision for class 'Iris-setosa' = 1.0\n",
      "F1 Score for class 'Iris-setosa' = 1.0\n"
     ]
    }
   ],
   "source": [
    "tp = sum((y_test == 'Iris-setosa') & (y_pred_series == 'Iris-setosa'))\n",
    "\n",
    "fn = sum((y_test == 'Iris-setosa') & (y_pred_series != 'Iris-setosa'))\n",
    "\n",
    "fp= sum((y_test  != 'Iris-setosa') & (y_pred_series == 'Iris-setosa'))\n",
    "\n",
    "tn = sum((y_test != 'Iris-setosa') & (y_pred_series != 'Iris-setosa'))\n",
    "\n",
    "print(\"recall for class 'Iris-setosa' = \" + str(tp / (tp + fn)))\n",
    "print(\"precision for class 'Iris-setosa' = \" + str(tp / (tp + fp)))\n",
    "print(\"F1 Score for class 'Iris-setosa' = \" + str(2 * tp /(2 * tp + fp + fn))) "
   ]
  },
  {
   "cell_type": "code",
   "execution_count": 29,
   "metadata": {},
   "outputs": [
    {
     "name": "stdout",
     "output_type": "stream",
     "text": [
      "recall for class 'Iris-virginica' = 1.0\n",
      "precision for class 'Iris-virginica' = 1.0\n",
      "F1 Score for class 'Iris-virginica' = 1.0\n"
     ]
    }
   ],
   "source": [
    "tp = sum((y_test == 'Iris-virginica') & (y_pred_series == 'Iris-virginica'))\n",
    "\n",
    "fn = sum((y_test == 'Iris-virginica') & (y_pred_series != 'Iris-virginica'))\n",
    "\n",
    "fp= sum((y_test  != 'Iris-virginica') & (y_pred_series == 'Iris-virginica'))\n",
    "\n",
    "tn = sum((y_test != 'Iris-virginica') & (y_pred_series != 'Iris-virginica'))\n",
    "\n",
    "print(\"recall for class 'Iris-virginica' = \" + str(tp / (tp + fn)))\n",
    "print(\"precision for class 'Iris-virginica' = \" + str(tp / (tp + fp)))\n",
    "print(\"F1 Score for class 'Iris-virginica' = \" + str(2 * tp /(2 * tp + fp + fn))) "
   ]
  },
  {
   "cell_type": "markdown",
   "metadata": {},
   "source": [
    "### Your Evaluation\n",
    "You are encouraged to use different k values to evaluate the performance."
   ]
  },
  {
   "cell_type": "code",
   "execution_count": 30,
   "metadata": {},
   "outputs": [],
   "source": [
    "y_pred = []\n",
    "for new_point in new_points:\n",
    "    #lab = 'test' # comment out this when test; use the following statement\n",
    "    lab = knn_classify(2, labeled_points, new_point)\n",
    "    y_pred.append(lab)"
   ]
  },
  {
   "cell_type": "code",
   "execution_count": 31,
   "metadata": {},
   "outputs": [],
   "source": [
    "y_pred_series = pd.Series(y_pred)"
   ]
  },
  {
   "cell_type": "code",
   "execution_count": 32,
   "metadata": {},
   "outputs": [],
   "source": [
    "y_test.index = range(y_test.shape[0])"
   ]
  },
  {
   "cell_type": "code",
   "execution_count": 33,
   "metadata": {},
   "outputs": [
    {
     "name": "stdout",
     "output_type": "stream",
     "text": [
      "The classification accuracy:  1.0\n"
     ]
    }
   ],
   "source": [
    "print(\"The classification accuracy: \", sum(y_test == y_pred_series)/len(y_test))"
   ]
  },
  {
   "cell_type": "code",
   "execution_count": 34,
   "metadata": {},
   "outputs": [
    {
     "name": "stdout",
     "output_type": "stream",
     "text": [
      "recall for class 'Iris-versicolor' = 1.0\n",
      "precision for class 'Iris-versicolor' = 1.0\n",
      "F1 Score for class 'Iris-versicolor' = 1.0\n"
     ]
    }
   ],
   "source": [
    "tp = sum((y_test == 'Iris-versicolor') & (y_pred_series == 'Iris-versicolor'))\n",
    "\n",
    "fn = sum((y_test == 'Iris-versicolor') & (y_pred_series != 'Iris-versicolor'))\n",
    "\n",
    "fp= sum((y_test  != 'Iris-versicolor') & (y_pred_series == 'Iris-versicolor'))\n",
    "\n",
    "tn = sum((y_test != 'Iris-versicolor') & (y_pred_series != 'Iris-versicolor'))\n",
    "\n",
    "print(\"recall for class 'Iris-versicolor' = \" + str(tp / (tp + fn)))\n",
    "print(\"precision for class 'Iris-versicolor' = \" + str(tp / (tp + fp)))\n",
    "print(\"F1 Score for class 'Iris-versicolor' = \" + str(2 * tp /(2 * tp + fp + fn))) "
   ]
  },
  {
   "cell_type": "code",
   "execution_count": 35,
   "metadata": {},
   "outputs": [
    {
     "name": "stdout",
     "output_type": "stream",
     "text": [
      "recall for class 'Iris-setosa' = 1.0\n",
      "precision for class 'Iris-setosa' = 1.0\n",
      "F1 Score for class 'Iris-setosa' = 1.0\n"
     ]
    }
   ],
   "source": [
    "tp = sum((y_test == 'Iris-setosa') & (y_pred_series == 'Iris-setosa'))\n",
    "\n",
    "fn = sum((y_test == 'Iris-setosa') & (y_pred_series != 'Iris-setosa'))\n",
    "\n",
    "fp= sum((y_test  != 'Iris-setosa') & (y_pred_series == 'Iris-setosa'))\n",
    "\n",
    "tn = sum((y_test != 'Iris-setosa') & (y_pred_series != 'Iris-setosa'))\n",
    "\n",
    "print(\"recall for class 'Iris-setosa' = \" + str(tp / (tp + fn)))\n",
    "print(\"precision for class 'Iris-setosa' = \" + str(tp / (tp + fp)))\n",
    "print(\"F1 Score for class 'Iris-setosa' = \" + str(2 * tp /(2 * tp + fp + fn))) "
   ]
  },
  {
   "cell_type": "code",
   "execution_count": 36,
   "metadata": {},
   "outputs": [
    {
     "name": "stdout",
     "output_type": "stream",
     "text": [
      "recall for class 'Iris-virginica' = 1.0\n",
      "precision for class 'Iris-virginica' = 1.0\n",
      "F1 Score for class 'Iris-virginica' = 1.0\n"
     ]
    }
   ],
   "source": [
    "tp = sum((y_test == 'Iris-virginica') & (y_pred_series == 'Iris-virginica'))\n",
    "\n",
    "fn = sum((y_test == 'Iris-virginica') & (y_pred_series != 'Iris-virginica'))\n",
    "\n",
    "fp= sum((y_test  != 'Iris-virginica') & (y_pred_series == 'Iris-virginica'))\n",
    "\n",
    "tn = sum((y_test != 'Iris-virginica') & (y_pred_series != 'Iris-virginica'))\n",
    "\n",
    "print(\"recall for class 'Iris-virginica' = \" + str(tp / (tp + fn)))\n",
    "print(\"precision for class 'Iris-virginica' = \" + str(tp / (tp + fp)))\n",
    "print(\"F1 Score for class 'Iris-virginica' = \" + str(2 * tp /(2 * tp + fp + fn))) "
   ]
  },
  {
   "cell_type": "markdown",
   "metadata": {},
   "source": [
    "## Question 2\n",
    "MNIST (\"Modified National Institute of Standards and Technology\") is the de facto “hello world” dataset of computer vision. Since its release in 1999, this classic dataset of handwritten images has served as the basis for benchmarking classification algorithms. \n",
    "\n",
    "The goal is to correctly identify digits from a dataset of tens of thousands of handwritten images. We've curated small sets of data for training and testing. The file digits-4k.csv contains 4000 hand-written digit images for training, while digits-2h.csv contains 200 digit images for testing. \n",
    "\n",
    "Each image is 28 pixels in height and 28 pixels in width, for a total of 784 pixels in total. Each pixel has a single pixel-value associated with it, indicating the lightness or darkness of that pixel, with higher numbers meaning darker. This pixel-value is an integer between 0 and 255, inclusive.\n",
    "\n",
    "Each data set has 785 columns. The first column, called \"label\", is the digit that was drawn by the user. The rest of the columns contain the pixel-values of the associated image.\n",
    "\n",
    "Use the KNN classifier in the Sciket Learn package to classify the 200 images in the test set (using the 4000 instances in digits-4k.csv as the training data). The KNN classifier can be imported as sklearn.neighbors.KNeighborsClassifier. \n",
    "\n",
    "Write a program to evaluate the KNN classifier with k ranging from 1 to 15. Plot the scores of the classifier against the range of k values.\n",
    "\n",
    "Discuss the results, for example, any thoughts on improving the accuracy?"
   ]
  },
  {
   "cell_type": "code",
   "execution_count": 37,
   "metadata": {},
   "outputs": [],
   "source": [
    "train_4k = pd.read_csv(\"digits-4k.csv\")"
   ]
  },
  {
   "cell_type": "code",
   "execution_count": 38,
   "metadata": {},
   "outputs": [],
   "source": [
    "test_2h = pd.read_csv(\"digits-2h.csv\")"
   ]
  },
  {
   "cell_type": "code",
   "execution_count": 39,
   "metadata": {},
   "outputs": [],
   "source": [
    "from sklearn.neighbors import KNeighborsClassifier"
   ]
  },
  {
   "cell_type": "markdown",
   "metadata": {},
   "source": [
    "#### Build, test, plot the results below"
   ]
  },
  {
   "cell_type": "code",
   "execution_count": 40,
   "metadata": {},
   "outputs": [],
   "source": [
    "X_train = train_4k.iloc[:,1:]"
   ]
  },
  {
   "cell_type": "code",
   "execution_count": 41,
   "metadata": {},
   "outputs": [
    {
     "data": {
      "text/html": [
       "<div>\n",
       "<style scoped>\n",
       "    .dataframe tbody tr th:only-of-type {\n",
       "        vertical-align: middle;\n",
       "    }\n",
       "\n",
       "    .dataframe tbody tr th {\n",
       "        vertical-align: top;\n",
       "    }\n",
       "\n",
       "    .dataframe thead th {\n",
       "        text-align: right;\n",
       "    }\n",
       "</style>\n",
       "<table border=\"1\" class=\"dataframe\">\n",
       "  <thead>\n",
       "    <tr style=\"text-align: right;\">\n",
       "      <th></th>\n",
       "      <th>pixel0</th>\n",
       "      <th>pixel1</th>\n",
       "      <th>pixel2</th>\n",
       "      <th>pixel3</th>\n",
       "      <th>pixel4</th>\n",
       "      <th>pixel5</th>\n",
       "      <th>pixel6</th>\n",
       "      <th>pixel7</th>\n",
       "      <th>pixel8</th>\n",
       "      <th>pixel9</th>\n",
       "      <th>...</th>\n",
       "      <th>pixel774</th>\n",
       "      <th>pixel775</th>\n",
       "      <th>pixel776</th>\n",
       "      <th>pixel777</th>\n",
       "      <th>pixel778</th>\n",
       "      <th>pixel779</th>\n",
       "      <th>pixel780</th>\n",
       "      <th>pixel781</th>\n",
       "      <th>pixel782</th>\n",
       "      <th>pixel783</th>\n",
       "    </tr>\n",
       "  </thead>\n",
       "  <tbody>\n",
       "    <tr>\n",
       "      <th>0</th>\n",
       "      <td>0</td>\n",
       "      <td>0</td>\n",
       "      <td>0</td>\n",
       "      <td>0</td>\n",
       "      <td>0</td>\n",
       "      <td>0</td>\n",
       "      <td>0</td>\n",
       "      <td>0</td>\n",
       "      <td>0</td>\n",
       "      <td>0</td>\n",
       "      <td>...</td>\n",
       "      <td>0</td>\n",
       "      <td>0</td>\n",
       "      <td>0</td>\n",
       "      <td>0</td>\n",
       "      <td>0</td>\n",
       "      <td>0</td>\n",
       "      <td>0</td>\n",
       "      <td>0</td>\n",
       "      <td>0</td>\n",
       "      <td>0</td>\n",
       "    </tr>\n",
       "    <tr>\n",
       "      <th>1</th>\n",
       "      <td>0</td>\n",
       "      <td>0</td>\n",
       "      <td>0</td>\n",
       "      <td>0</td>\n",
       "      <td>0</td>\n",
       "      <td>0</td>\n",
       "      <td>0</td>\n",
       "      <td>0</td>\n",
       "      <td>0</td>\n",
       "      <td>0</td>\n",
       "      <td>...</td>\n",
       "      <td>0</td>\n",
       "      <td>0</td>\n",
       "      <td>0</td>\n",
       "      <td>0</td>\n",
       "      <td>0</td>\n",
       "      <td>0</td>\n",
       "      <td>0</td>\n",
       "      <td>0</td>\n",
       "      <td>0</td>\n",
       "      <td>0</td>\n",
       "    </tr>\n",
       "    <tr>\n",
       "      <th>2</th>\n",
       "      <td>0</td>\n",
       "      <td>0</td>\n",
       "      <td>0</td>\n",
       "      <td>0</td>\n",
       "      <td>0</td>\n",
       "      <td>0</td>\n",
       "      <td>0</td>\n",
       "      <td>0</td>\n",
       "      <td>0</td>\n",
       "      <td>0</td>\n",
       "      <td>...</td>\n",
       "      <td>0</td>\n",
       "      <td>0</td>\n",
       "      <td>0</td>\n",
       "      <td>0</td>\n",
       "      <td>0</td>\n",
       "      <td>0</td>\n",
       "      <td>0</td>\n",
       "      <td>0</td>\n",
       "      <td>0</td>\n",
       "      <td>0</td>\n",
       "    </tr>\n",
       "    <tr>\n",
       "      <th>3</th>\n",
       "      <td>0</td>\n",
       "      <td>0</td>\n",
       "      <td>0</td>\n",
       "      <td>0</td>\n",
       "      <td>0</td>\n",
       "      <td>0</td>\n",
       "      <td>0</td>\n",
       "      <td>0</td>\n",
       "      <td>0</td>\n",
       "      <td>0</td>\n",
       "      <td>...</td>\n",
       "      <td>0</td>\n",
       "      <td>0</td>\n",
       "      <td>0</td>\n",
       "      <td>0</td>\n",
       "      <td>0</td>\n",
       "      <td>0</td>\n",
       "      <td>0</td>\n",
       "      <td>0</td>\n",
       "      <td>0</td>\n",
       "      <td>0</td>\n",
       "    </tr>\n",
       "    <tr>\n",
       "      <th>4</th>\n",
       "      <td>0</td>\n",
       "      <td>0</td>\n",
       "      <td>0</td>\n",
       "      <td>0</td>\n",
       "      <td>0</td>\n",
       "      <td>0</td>\n",
       "      <td>0</td>\n",
       "      <td>0</td>\n",
       "      <td>0</td>\n",
       "      <td>0</td>\n",
       "      <td>...</td>\n",
       "      <td>0</td>\n",
       "      <td>0</td>\n",
       "      <td>0</td>\n",
       "      <td>0</td>\n",
       "      <td>0</td>\n",
       "      <td>0</td>\n",
       "      <td>0</td>\n",
       "      <td>0</td>\n",
       "      <td>0</td>\n",
       "      <td>0</td>\n",
       "    </tr>\n",
       "  </tbody>\n",
       "</table>\n",
       "<p>5 rows × 784 columns</p>\n",
       "</div>"
      ],
      "text/plain": [
       "   pixel0  pixel1  pixel2  pixel3  pixel4  pixel5  pixel6  pixel7  pixel8  \\\n",
       "0       0       0       0       0       0       0       0       0       0   \n",
       "1       0       0       0       0       0       0       0       0       0   \n",
       "2       0       0       0       0       0       0       0       0       0   \n",
       "3       0       0       0       0       0       0       0       0       0   \n",
       "4       0       0       0       0       0       0       0       0       0   \n",
       "\n",
       "   pixel9    ...     pixel774  pixel775  pixel776  pixel777  pixel778  \\\n",
       "0       0    ...            0         0         0         0         0   \n",
       "1       0    ...            0         0         0         0         0   \n",
       "2       0    ...            0         0         0         0         0   \n",
       "3       0    ...            0         0         0         0         0   \n",
       "4       0    ...            0         0         0         0         0   \n",
       "\n",
       "   pixel779  pixel780  pixel781  pixel782  pixel783  \n",
       "0         0         0         0         0         0  \n",
       "1         0         0         0         0         0  \n",
       "2         0         0         0         0         0  \n",
       "3         0         0         0         0         0  \n",
       "4         0         0         0         0         0  \n",
       "\n",
       "[5 rows x 784 columns]"
      ]
     },
     "execution_count": 41,
     "metadata": {},
     "output_type": "execute_result"
    }
   ],
   "source": [
    "X_train.head()"
   ]
  },
  {
   "cell_type": "code",
   "execution_count": 42,
   "metadata": {},
   "outputs": [],
   "source": [
    "X_test = test_2h.iloc[:,1:]"
   ]
  },
  {
   "cell_type": "code",
   "execution_count": 43,
   "metadata": {},
   "outputs": [],
   "source": [
    "y_train = train_4k.label"
   ]
  },
  {
   "cell_type": "code",
   "execution_count": 44,
   "metadata": {},
   "outputs": [],
   "source": [
    "y_test = test_2h.label"
   ]
  },
  {
   "cell_type": "code",
   "execution_count": 45,
   "metadata": {},
   "outputs": [],
   "source": [
    "import numpy as np\n",
    "import pandas as pd\n",
    "import matplotlib.pyplot as plt\n",
    "from matplotlib.colors import ListedColormap\n",
    "from sklearn import neighbors\n",
    "\n",
    "%matplotlib inline"
   ]
  },
  {
   "cell_type": "code",
   "execution_count": 46,
   "metadata": {},
   "outputs": [
    {
     "name": "stdout",
     "output_type": "stream",
     "text": [
      "[0.945, 0.925, 0.92, 0.935, 0.925, 0.92, 0.92, 0.925, 0.92, 0.925, 0.93, 0.92, 0.92, 0.92, 0.92]\n"
     ]
    }
   ],
   "source": [
    "from sklearn.metrics import accuracy_score\n",
    "from sklearn.neighbors import KNeighborsClassifier\n",
    "k_range = range(1,16)\n",
    "scores = []\n",
    "for k in k_range:\n",
    "    knn = KNeighborsClassifier(n_neighbors = k, p = 3)\n",
    "    knn.fit(X_train, y_train)\n",
    "    scores.append(knn.score(X_test, y_test))\n",
    "print(scores)"
   ]
  },
  {
   "cell_type": "code",
   "execution_count": 47,
   "metadata": {},
   "outputs": [
    {
     "data": {
      "text/plain": [
       "Text(0,0.5,'Testing Accuracy')"
      ]
     },
     "execution_count": 47,
     "metadata": {},
     "output_type": "execute_result"
    },
    {
     "data": {
      "image/png": "[encoded data removed]",
      "text/plain": [
       "<Figure size 432x288 with 1 Axes>"
      ]
     },
     "metadata": {},
     "output_type": "display_data"
    }
   ],
   "source": [
    "plt.plot(k_range, scores)\n",
    "plt.xlabel('Value of K for KNN for Minkowski distance')\n",
    "plt.ylabel('Testing Accuracy')"
   ]
  },
  {
   "cell_type": "code",
   "execution_count": 48,
   "metadata": {},
   "outputs": [
    {
     "name": "stdout",
     "output_type": "stream",
     "text": [
      "[0.92, 0.895, 0.9, 0.9, 0.915, 0.92, 0.91, 0.925, 0.915, 0.91, 0.915, 0.905, 0.9, 0.905, 0.895]\n"
     ]
    }
   ],
   "source": [
    "from sklearn.metrics import accuracy_score\n",
    "from sklearn.neighbors import KNeighborsClassifier\n",
    "k_range = range(1,16)\n",
    "scores = []\n",
    "for k in k_range:\n",
    "    knn = KNeighborsClassifier(n_neighbors = k, p = 1)\n",
    "    knn.fit(X_train, y_train)\n",
    "    scores.append(knn.score(X_test, y_test))\n",
    "print(scores)"
   ]
  },
  {
   "cell_type": "code",
   "execution_count": 49,
   "metadata": {},
   "outputs": [
    {
     "data": {
      "text/plain": [
       "Text(0,0.5,'Testing Accuracy')"
      ]
     },
     "execution_count": 49,
     "metadata": {},
     "output_type": "execute_result"
    },
    {
     "data": {
      "image/png": "[encoded data removed]",
      "text/plain": [
       "<Figure size 432x288 with 1 Axes>"
      ]
     },
     "metadata": {},
     "output_type": "display_data"
    }
   ],
   "source": [
    "plt.plot(k_range, scores)\n",
    "plt.xlabel('Value of K for KNN using Manhattan distance')\n",
    "plt.ylabel('Testing Accuracy')"
   ]
  },
  {
   "cell_type": "code",
   "execution_count": 50,
   "metadata": {},
   "outputs": [
    {
     "name": "stdout",
     "output_type": "stream",
     "text": [
      "[0.935, 0.905, 0.91, 0.92, 0.92, 0.91, 0.92, 0.925, 0.925, 0.925, 0.925, 0.91, 0.91, 0.905, 0.915]\n"
     ]
    }
   ],
   "source": [
    "from sklearn.metrics import accuracy_score\n",
    "from sklearn.neighbors import KNeighborsClassifier\n",
    "k_range = range(1,16)\n",
    "scores = []\n",
    "for k in k_range:\n",
    "    knn = KNeighborsClassifier(n_neighbors = k, p = 2)\n",
    "    knn.fit(X_train, y_train)\n",
    "    scores.append(knn.score(X_test, y_test))\n",
    "print(scores)"
   ]
  },
  {
   "cell_type": "code",
   "execution_count": 51,
   "metadata": {},
   "outputs": [
    {
     "data": {
      "text/plain": [
       "Text(0,0.5,'Testing Accuracy')"
      ]
     },
     "execution_count": 51,
     "metadata": {},
     "output_type": "execute_result"
    },
    {
     "data": {
      "image/png": "[encoded data removed]",
      "text/plain": [
       "<Figure size 432x288 with 1 Axes>"
      ]
     },
     "metadata": {},
     "output_type": "display_data"
    }
   ],
   "source": [
    "plt.plot(k_range, scores)\n",
    "plt.xlabel('Value of K for KNN using Euclidean distance')\n",
    "plt.ylabel('Testing Accuracy')"
   ]
  },
  {
   "cell_type": "markdown",
   "metadata": {},
   "source": [
    "### Discussion about the result"
   ]
  },
  {
   "cell_type": "markdown",
   "metadata": {},
   "source": [
    "From the result, we can see that with the k neighbor = 1, the accuracy will be highest. However, after that point, the K neighbor cannot be used to predict the accuracy of the data. \n",
    "From the three different graphs above, we can see that the accuracy using the Minkowski distance will be the highest with the value of 0.945. Thus, changing the distance calculation method will increase the accuracy of the algorithm.  \n"
   ]
  },
  {
   "cell_type": "code",
   "execution_count": null,
   "metadata": {},
   "outputs": [],
   "source": []
  }
 ],
 "metadata": {
  "kernelspec": {
   "display_name": "Python 3",
   "language": "python",
   "name": "python3"
  },
  "language_info": {
   "codemirror_mode": {
    "name": "ipython",
    "version": 3
   },
   "file_extension": ".py",
   "mimetype": "text/x-python",
   "name": "python",
   "nbconvert_exporter": "python",
   "pygments_lexer": "ipython3",
   "version": "3.6.4"
  }
 },
 "nbformat": 4,
 "nbformat_minor": 2
}
